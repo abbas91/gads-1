{
 "cells": [
  {
   "cell_type": "markdown",
   "metadata": {},
   "source": [
    "# Imbalanced Lab on the Caravan Dataset\n"
   ]
  },
  {
   "cell_type": "code",
   "execution_count": 2,
   "metadata": {
    "collapsed": false
   },
   "outputs": [],
   "source": [
    "import numpy as np\n",
    "import pandas as pd\n",
    "\n",
    "from sklearn.preprocessing import StandardScaler\n",
    "\n",
    "from sklearn.metrics import accuracy_score, confusion_matrix, classification_report\n",
    "from sklearn.metrics import precision_recall_fscore_support, roc_auc_score\n",
    "from sklearn.grid_search import GridSearchCV\n",
    "from sklearn.cross_validation import train_test_split\n",
    "from sklearn.svm import SVC\n",
    "\n",
    "import matplotlib.pyplot as plt\n",
    "%matplotlib inline\n",
    "np.random.seed(8)\n",
    "\n"
   ]
  },
  {
   "cell_type": "markdown",
   "metadata": {},
   "source": [
    "# Load the dataset and shuffle"
   ]
  },
  {
   "cell_type": "code",
   "execution_count": 4,
   "metadata": {
    "collapsed": true
   },
   "outputs": [],
   "source": [
    "df = pd.read_csv('../../datasets/Caravan.csv', index_col = False)\n",
    "\n",
    "# Shuffles your dataframe in-place and resets the index\n",
    "df = df.sample(frac=1).reset_index(drop=True)\n",
    "\n",
    "y = df.Purchase.factorize()[0]\n",
    "X = df.drop(['Purchase'], axis=1).values\n"
   ]
  },
  {
   "cell_type": "markdown",
   "metadata": {},
   "source": [
    "# Dumb classifier\n",
    "The classifier always predicts zeroes. What's the accuracy?\n",
    "\n",
    "        np.zeroes\n"
   ]
  },
  {
   "cell_type": "code",
   "execution_count": null,
   "metadata": {
    "collapsed": true
   },
   "outputs": [],
   "source": []
  },
  {
   "cell_type": "markdown",
   "metadata": {},
   "source": [
    "# Simple Support Vector Machine\n",
    "\n",
    "* Split the data into train and test (80/20) with train_test_split\n",
    "* Using GridSearchCV train a SVC with params:\n",
    "       * parameters = {'C': [0.001, 0.01,0.1, 0.5,1]}\n",
    "       * 5 K-fold\n",
    "       * auc scoring\n",
    "       * rbf kernel\n",
    "       \n",
    "See [SVC in scikit](http://scikit-learn.org/stable/modules/generated/sklearn.svm.SVC.html\n",
    "\n",
    "Print out\n",
    "\n",
    "* Grid scores\n",
    "* Accuracy\n",
    "* confusion matrix \n",
    "* roc auc score\n"
   ]
  },
  {
   "cell_type": "code",
   "execution_count": null,
   "metadata": {
    "collapsed": true
   },
   "outputs": [],
   "source": []
  },
  {
   "cell_type": "markdown",
   "metadata": {},
   "source": [
    "# Under sample\n",
    "\n",
    "On the original dataset, select all the 348 Yes samples and select a random sample of 348 No samples. \n",
    "\n",
    "Build a dataframe under_df composed of 348 yes samples and 348 No samples. (Using df.append)\n",
    "\n",
    "Shuffle, split the under_df into train and test (80/20) and carry out the same grid search as above.\n",
    "\n",
    "* Grid scores\n",
    "* Accuracy\n",
    "* confusion matrix \n",
    "* roc auc score\n",
    "\n"
   ]
  },
  {
   "cell_type": "code",
   "execution_count": null,
   "metadata": {
    "collapsed": true
   },
   "outputs": [],
   "source": []
  },
  {
   "cell_type": "markdown",
   "metadata": {},
   "source": [
    "# Over sample\n",
    "\n",
    "This time build an over_df dataframe by replicating 4 times the original Yes samples and 348 * 5 No Samples\n",
    "\n",
    "The over_df dataframe should have a total of 3480 samples\n",
    "\n",
    "Shuffle, split the under_df into train and test (80/20) and carry out the same grid search as above.\n",
    "\n",
    "* Grid scores\n",
    "* Accuracy\n",
    "* confusion matrix \n",
    "* roc auc score\n",
    "\n"
   ]
  },
  {
   "cell_type": "code",
   "execution_count": null,
   "metadata": {
    "collapsed": true
   },
   "outputs": [],
   "source": []
  },
  {
   "cell_type": "markdown",
   "metadata": {},
   "source": [
    "# SMOTE\n",
    "\n",
    "Reload the original dataset, split train/ test\n",
    "\n",
    "Generate new SMOTE data\n",
    "\n",
    "    from imblearn.over_sampling import SMOTE\n",
    "    smo_X, smo_y = smote.fit_sample(X_train, y_train)\n",
    "\n",
    "GridsearchCV with the same parameters as before on the  smo_X, smo_y sets.\n",
    "\n",
    "Conclusion?\n"
   ]
  },
  {
   "cell_type": "code",
   "execution_count": null,
   "metadata": {
    "collapsed": true
   },
   "outputs": [],
   "source": []
  }
 ],
 "metadata": {
  "kernelspec": {
   "display_name": "Python 3",
   "language": "python",
   "name": "python3"
  },
  "language_info": {
   "codemirror_mode": {
    "name": "ipython",
    "version": 3
   },
   "file_extension": ".py",
   "mimetype": "text/x-python",
   "name": "python",
   "nbconvert_exporter": "python",
   "pygments_lexer": "ipython3",
   "version": "3.5.2"
  }
 },
 "nbformat": 4,
 "nbformat_minor": 0
}
