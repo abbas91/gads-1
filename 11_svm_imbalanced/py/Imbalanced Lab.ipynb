{
 "cells": [
  {
   "cell_type": "markdown",
   "metadata": {},
   "source": [
    "# Imbalanced Lab on the Caravan Dataset\n"
   ]
  },
  {
   "cell_type": "code",
   "execution_count": 2,
   "metadata": {
    "collapsed": false
   },
   "outputs": [],
   "source": [
    "import numpy as np\n",
    "import pandas as pd\n",
    "\n",
    "from sklearn.preprocessing import StandardScaler\n",
    "\n",
    "from sklearn.metrics import accuracy_score, confusion_matrix, classification_report\n",
    "from sklearn.metrics import precision_recall_fscore_support, roc_auc_score\n",
    "from sklearn.grid_search import GridSearchCV\n",
    "from sklearn.cross_validation import train_test_split\n",
    "from sklearn.svm import SVC\n",
    "\n",
    "import matplotlib.pyplot as plt\n",
    "%matplotlib inline\n",
    "np.random.seed(8)\n",
    "\n"
   ]
  },
  {
   "cell_type": "markdown",
   "metadata": {},
   "source": [
    "# Load the dataset and shuffle"
   ]
  },
  {
   "cell_type": "code",
   "execution_count": 3,
   "metadata": {
    "collapsed": true
   },
   "outputs": [],
   "source": [
    "df = pd.read_csv('../../datasets/Caravan.csv', index_col = False)\n",
    "\n",
    "# Shuffles your dataframe in-place and resets the index\n",
    "df = df.sample(frac=1).reset_index(drop=True)\n",
    "\n",
    "y = df.Purchase.factorize()[0]\n",
    "X = df.drop(['Purchase'], axis=1).values\n"
   ]
  },
  {
   "cell_type": "markdown",
   "metadata": {},
   "source": [
    "# Dumb classifier\n",
    "The classifier always predicts zeroes. What's the accuracy?\n",
    "\n",
    "        np.zeroes\n"
   ]
  },
  {
   "cell_type": "code",
   "execution_count": 5,
   "metadata": {
    "collapsed": false
   },
   "outputs": [
    {
     "name": "stdout",
     "output_type": "stream",
     "text": [
      "0.940226726211\n"
     ]
    }
   ],
   "source": [
    "y_hat = np.zeros(len(y))\n",
    "\n",
    "print(accuracy_score(y_hat,y))\n"
   ]
  },
  {
   "cell_type": "markdown",
   "metadata": {},
   "source": [
    "# Simple Support Vector Machine\n",
    "\n",
    "* Split the data into train and test (80/20) with train_test_split\n",
    "* Using GridSearchCV train a SVC with params:\n",
    "       * parameters = {'C': [0.001, 0.01,0.1, 0.5,1]}\n",
    "       * 5 K-fold\n",
    "       * auc scoring\n",
    "       * rbf kernel\n",
    "       \n",
    "See [SVC in scikit](http://scikit-learn.org/stable/modules/generated/sklearn.svm.SVC.html\n",
    "\n",
    "Print out\n",
    "\n",
    "* Grid scores\n",
    "* Accuracy\n",
    "* confusion matrix \n",
    "* roc auc score\n"
   ]
  },
  {
   "cell_type": "code",
   "execution_count": 7,
   "metadata": {
    "collapsed": false
   },
   "outputs": [
    {
     "name": "stdout",
     "output_type": "stream",
     "text": [
      "0.947639484979\n",
      "[[1104   61]\n",
      " [   0    0]]\n"
     ]
    },
    {
     "data": {
      "text/plain": [
       "[mean: 0.57257, std: 0.02661, params: {'C': 0.001},\n",
       " mean: 0.63379, std: 0.03615, params: {'C': 0.01},\n",
       " mean: 0.64054, std: 0.03854, params: {'C': 0.1},\n",
       " mean: 0.64114, std: 0.03898, params: {'C': 0.5},\n",
       " mean: 0.64057, std: 0.03923, params: {'C': 1}]"
      ]
     },
     "execution_count": 7,
     "metadata": {},
     "output_type": "execute_result"
    }
   ],
   "source": [
    "X_train, X_test, y_train, y_test = train_test_split( X, y, test_size=0.20, random_state=42)\n",
    "# => 273 / 75 Yes\n",
    "\n",
    "parameters = {'C': [0.001, 0.01,0.1, 0.5, 1]}\n",
    "\n",
    "clf = GridSearchCV(SVC(kernel='rbf'), parameters, cv=5, scoring='roc_auc')\n",
    "clf.fit(X_train,y_train)\n",
    "# confusion matrix of best model\n",
    "\n",
    "\n",
    "y_hat = clf.predict(X_test)\n",
    "\n",
    "print( accuracy_score(y_hat,y_test))\n",
    "# 94% accuracy!!!\n",
    "\n",
    "# print(classification_report(y_hat, y_test))\n",
    "print( confusion_matrix(y_hat,y_test))\n",
    "clf.grid_scores_"
   ]
  },
  {
   "cell_type": "markdown",
   "metadata": {},
   "source": [
    "# Under sample\n",
    "\n",
    "On the original dataset, select all the 348 Yes samples and select a random sample of 348 No samples. \n",
    "\n",
    "Build a dataframe under_df composed of 348 yes samples and 348 No samples. (Using df.append)\n",
    "\n",
    "Shuffle, split the under_df into train and test (80/20) and carry out the same grid search as above.\n",
    "\n",
    "* Grid scores\n",
    "* Accuracy\n",
    "* confusion matrix \n",
    "* roc auc score\n",
    "\n"
   ]
  },
  {
   "cell_type": "code",
   "execution_count": 11,
   "metadata": {
    "collapsed": false
   },
   "outputs": [
    {
     "name": "stdout",
     "output_type": "stream",
     "text": [
      "0.628571428571\n",
      "[[46 34]\n",
      " [18 42]]\n",
      "             precision    recall  f1-score   support\n",
      "\n",
      "          0       0.72      0.57      0.64        80\n",
      "          1       0.55      0.70      0.62        60\n",
      "\n",
      "avg / total       0.65      0.63      0.63       140\n",
      "\n"
     ]
    },
    {
     "data": {
      "text/plain": [
       "[mean: 0.67883, std: 0.03527, params: {'C': 0.001},\n",
       " mean: 0.67844, std: 0.03534, params: {'C': 0.01},\n",
       " mean: 0.67831, std: 0.03510, params: {'C': 0.1},\n",
       " mean: 0.70307, std: 0.04951, params: {'C': 0.5},\n",
       " mean: 0.70453, std: 0.05615, params: {'C': 1}]"
      ]
     },
     "execution_count": 11,
     "metadata": {},
     "output_type": "execute_result"
    }
   ],
   "source": [
    "under_df = df[df.Purchase == 'Yes']\n",
    "under_df = under_df.append(df[df.Purchase == 'No'].sample(348)).sample(frac=1).reset_index(drop=True)\n",
    "\n",
    "# under_df has 696 samples with 50/50 yes no\n",
    "y = under_df.Purchase.factorize()[0]\n",
    "X = under_df.drop(['Purchase'], axis=1).values\n",
    "\n",
    "X_train, X_test, y_train, y_test = train_test_split( X, y, test_size=0.20, random_state=42)\n",
    "parameters = {'C': [0.001, 0.01,0.1, 0.5,1]}\n",
    "\n",
    "clf = GridSearchCV(SVC(kernel='rbf'), parameters, cv=5, scoring='roc_auc')\n",
    "clf.fit(X_train,y_train)\n",
    "# confusion matrix of best model\n",
    "\n",
    "\n",
    "y_hat = clf.predict(X_test)\n",
    "\n",
    "print( accuracy_score(y_hat,y_test))\n",
    "print( confusion_matrix(y_hat,y_test))\n",
    "print( classification_report(y_hat,y_test))\n",
    "\n",
    "\n",
    "clf.grid_scores_"
   ]
  },
  {
   "cell_type": "markdown",
   "metadata": {},
   "source": [
    "# Over sample\n",
    "\n",
    "This time build an over_df dataframe by replicating 4 times the original Yes samples and 348 * 5 No Samples\n",
    "\n",
    "The over_df dataframe should have a total of 3480 samples\n",
    "\n",
    "Shuffle, split the under_df into train and test (80/20) and carry out the same grid search as above.\n",
    "\n",
    "* Grid scores\n",
    "* Accuracy\n",
    "* confusion matrix \n",
    "* roc auc score\n",
    "\n"
   ]
  },
  {
   "cell_type": "code",
   "execution_count": 12,
   "metadata": {
    "collapsed": false
   },
   "outputs": [
    {
     "name": "stdout",
     "output_type": "stream",
     "text": [
      "No     5474\n",
      "Yes    2088\n",
      "Name: Purchase, dtype: int64\n"
     ]
    },
    {
     "name": "stderr",
     "output_type": "stream",
     "text": [
      "/Users/aperrier/anaconda/envs/py35/lib/python3.5/site-packages/sklearn/utils/validation.py:420: DataConversionWarning: Data with input dtype int64 was converted to float64 by StandardScaler.\n",
      "  warnings.warn(msg, DataConversionWarning)\n",
      "/Users/aperrier/anaconda/envs/py35/lib/python3.5/site-packages/sklearn/utils/validation.py:420: DataConversionWarning: Data with input dtype int64 was converted to float64 by StandardScaler.\n",
      "  warnings.warn(msg, DataConversionWarning)\n"
     ]
    },
    {
     "name": "stdout",
     "output_type": "stream",
     "text": [
      "0.844018506279\n",
      "             precision    recall  f1-score   support\n",
      "\n",
      "          0       0.94      0.85      0.90      1201\n",
      "          1       0.59      0.81      0.68       312\n",
      "\n",
      "avg / total       0.87      0.84      0.85      1513\n",
      "\n",
      "[[1025  176]\n",
      " [  60  252]]\n"
     ]
    }
   ],
   "source": [
    "df = pd.read_csv('../../datasets/Caravan.csv', index_col = False)\n",
    "\n",
    "# let's replicate the number of yes cases by 6\n",
    "tmp = df[df.Purchase == 'Yes']\n",
    "for _ in range(4):\n",
    "    tmp = tmp.append( df[df.Purchase == 'Yes']  )\n",
    "\n",
    "df = df.append(tmp).sample(frac=1).reset_index(drop=True)\n",
    "print(df.Purchase.value_counts())\n",
    "# we now have 5474 / 2088\n",
    "\n",
    "y = df.Purchase.factorize()[0]\n",
    "X = df.drop(['Purchase'], axis=1).values\n",
    "scale = StandardScaler()\n",
    "X = scale.fit_transform(X)\n",
    "\n",
    "X_train, X_test, y_train, y_test = train_test_split( X, y, test_size=0.20, random_state=42)\n",
    "\n",
    "parameters = {'C': [0.001, 0.01,0.1, 0.5,1]}\n",
    "\n",
    "clf = GridSearchCV(SVC(kernel='rbf'), parameters, cv=5, scoring='roc_auc')\n",
    "clf.fit(X_train,y_train)\n",
    "clf.grid_scores_\n",
    "\n",
    "y_hat = clf.predict(X_test)\n",
    "print( accuracy_score(y_hat,y_test))\n",
    "# 83% accuracy!!!\n",
    "\n",
    "print(classification_report(y_hat, y_test))\n",
    "print( confusion_matrix(y_hat,y_test))\n",
    "\n"
   ]
  },
  {
   "cell_type": "markdown",
   "metadata": {},
   "source": [
    "# SMOTE\n",
    "\n",
    "Reload the original dataset, split train/ test\n",
    "\n",
    "Generate new SMOTE data\n",
    "\n",
    "    from imblearn.over_sampling import SMOTE\n",
    "    smo_X, smo_y = smote.fit_sample(X_train, y_train)\n",
    "\n",
    "GridsearchCV with the same parameters as before on the  smo_X, smo_y sets.\n",
    "\n",
    "Conclusion?\n"
   ]
  },
  {
   "cell_type": "code",
   "execution_count": 15,
   "metadata": {
    "collapsed": false
   },
   "outputs": [
    {
     "name": "stderr",
     "output_type": "stream",
     "text": [
      "/Users/aperrier/anaconda/envs/py35/lib/python3.5/site-packages/sklearn/utils/validation.py:420: DataConversionWarning: Data with input dtype int64 was converted to float64 by StandardScaler.\n",
      "  warnings.warn(msg, DataConversionWarning)\n",
      "/Users/aperrier/anaconda/envs/py35/lib/python3.5/site-packages/sklearn/utils/validation.py:420: DataConversionWarning: Data with input dtype int64 was converted to float64 by StandardScaler.\n",
      "  warnings.warn(msg, DataConversionWarning)\n"
     ]
    },
    {
     "ename": "TypeError",
     "evalue": "fit_sample() missing 1 required positional argument: 'y'",
     "output_type": "error",
     "traceback": [
      "\u001b[0;31m---------------------------------------------------------------------------\u001b[0m",
      "\u001b[0;31mTypeError\u001b[0m                                 Traceback (most recent call last)",
      "\u001b[0;32m<ipython-input-15-6da1a918a334>\u001b[0m in \u001b[0;36m<module>\u001b[0;34m()\u001b[0m\n\u001b[1;32m     10\u001b[0m \u001b[0;32mfrom\u001b[0m \u001b[0mimblearn\u001b[0m\u001b[0;34m.\u001b[0m\u001b[0mover_sampling\u001b[0m \u001b[0;32mimport\u001b[0m \u001b[0mSMOTE\u001b[0m\u001b[0;34m\u001b[0m\u001b[0m\n\u001b[1;32m     11\u001b[0m \u001b[0;34m\u001b[0m\u001b[0m\n\u001b[0;32m---> 12\u001b[0;31m \u001b[0msmox\u001b[0m\u001b[0;34m,\u001b[0m \u001b[0msmoy\u001b[0m \u001b[0;34m=\u001b[0m \u001b[0mSMOTE\u001b[0m\u001b[0;34m.\u001b[0m\u001b[0mfit_sample\u001b[0m\u001b[0;34m(\u001b[0m\u001b[0mX_train\u001b[0m\u001b[0;34m,\u001b[0m \u001b[0my_train\u001b[0m\u001b[0;34m)\u001b[0m\u001b[0;34m\u001b[0m\u001b[0m\n\u001b[0m\u001b[1;32m     13\u001b[0m \u001b[0msmox_vis\u001b[0m \u001b[0;34m=\u001b[0m \u001b[0mpca\u001b[0m\u001b[0;34m.\u001b[0m\u001b[0mtransform\u001b[0m\u001b[0;34m(\u001b[0m\u001b[0msmox\u001b[0m\u001b[0;34m)\u001b[0m\u001b[0;34m\u001b[0m\u001b[0m\n\u001b[1;32m     14\u001b[0m \u001b[0;34m\u001b[0m\u001b[0m\n",
      "\u001b[0;31mTypeError\u001b[0m: fit_sample() missing 1 required positional argument: 'y'"
     ]
    }
   ],
   "source": [
    "df = pd.read_csv('../../datasets/Caravan.csv', index_col = False)\n",
    "\n",
    "df = df.sample(frac=1).reset_index(drop=True)\n",
    "y = df.Purchase.factorize()[0]\n",
    "X = df.drop(['Purchase'], axis=1).values\n",
    "scale = StandardScaler()\n",
    "X = scale.fit_transform(X)\n",
    "X_train, X_test, y_train, y_test = train_test_split( X, y, test_size=0.20, random_state=42)\n",
    "\n",
    "from imblearn.over_sampling import SMOTE\n",
    "\n",
    "smox, smoy = SMOTE.fit_sample(X_train, y_train)\n",
    "smox_vis = pca.transform(smox)\n",
    "\n",
    "parameters = {'C': [0.001, 0.01,0.1, 0.5,1]}\n",
    "\n",
    "clf = GridSearchCV(SVC(kernel='rbf'), parameters, cv=5, scoring='roc_auc')\n",
    "clf.fit(smox,smoy)\n",
    "clf.grid_scores_\n",
    "y_hat = clf.predict(X_test)\n"
   ]
  },
  {
   "cell_type": "code",
   "execution_count": null,
   "metadata": {
    "collapsed": true
   },
   "outputs": [],
   "source": []
  }
 ],
 "metadata": {
  "kernelspec": {
   "display_name": "Python 3",
   "language": "python",
   "name": "python3"
  },
  "language_info": {
   "codemirror_mode": {
    "name": "ipython",
    "version": 3
   },
   "file_extension": ".py",
   "mimetype": "text/x-python",
   "name": "python",
   "nbconvert_exporter": "python",
   "pygments_lexer": "ipython3",
   "version": "3.5.2"
  }
 },
 "nbformat": 4,
 "nbformat_minor": 0
}
