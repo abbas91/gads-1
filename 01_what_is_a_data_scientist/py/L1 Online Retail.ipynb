{
 "cells": [
  {
   "cell_type": "markdown",
   "metadata": {},
   "source": [
    "# Exploration of the Online Retail dataset\n",
    "\n",
    "The [Online Retail](https://archive.ics.uci.edu/ml/datasets/Online+Retail) dataset from the UCI ML repository  contains all the transactions occurring between 01/12/2010 and 09/12/2011 for a UK-based online retail.\n",
    "\n",
    "Its features are:\n",
    "\n",
    "* InvoiceNo: Invoice number. Nominal, a 6-digit integral number uniquely assigned to each transaction. If this code starts with letter 'c', it indicates a cancellation.\n",
    "* StockCode: Product (item) code. Nominal, a 5-digit integral number uniquely assigned to each distinct product.\n",
    "* Description: Product (item) name. Nominal.\n",
    "* Quantity: The quantities of each product (item) per transaction. Numeric.\n",
    "* InvoiceDate: Invice Date and time. Numeric, the day and time when each transaction was generated.\n",
    "* UnitPrice: Unit price. Numeric, Product price per unit in sterling.\n",
    "* CustomerID: Customer number. Nominal, a 5-digit integral number uniquely assigned to each customer.\n",
    "* Country: Country name. Nominal, the name of the country where each customer resides. \n",
    "\n",
    "Some rows contain charaters that may cause problems with pandas. In this notebook we explore a subset of 10000 rows of the original dataset.\n"
   ]
  },
  {
   "cell_type": "code",
   "execution_count": 46,
   "metadata": {
    "collapsed": false
   },
   "outputs": [],
   "source": [
    "# Import required librairies\n",
    "import pandas as pd\n",
    "import matplotlib.pyplot as plt\n",
    "%matplotlib inline\n"
   ]
  },
  {
   "cell_type": "code",
   "execution_count": 47,
   "metadata": {
    "collapsed": false
   },
   "outputs": [
    {
     "name": "stdout",
     "output_type": "stream",
     "text": [
      "The Dataframe shape is: (9999, 8)  \n"
     ]
    }
   ],
   "source": [
    "# Load the dataset into a panda DataFrame \n",
    "# For more info on read_csv: type ?pd.read_csv \n",
    "\n",
    "df = pd.read_csv('../data/small_online_retail.csv')\n",
    "\n",
    "# The Dataframe has 9999 rows and 8 columns / features as expected\n",
    "print(\"The Dataframe shape is: %s  \"% str(df.shape))\n",
    "\n"
   ]
  },
  {
   "cell_type": "code",
   "execution_count": 48,
   "metadata": {
    "collapsed": false
   },
   "outputs": [
    {
     "data": {
      "text/plain": [
       "Index(['InvoiceNo', 'StockCode', 'Description', 'Quantity', 'InvoiceDate',\n",
       "       'UnitPrice', 'CustomerID', 'Country'],\n",
       "      dtype='object')"
      ]
     },
     "execution_count": 48,
     "metadata": {},
     "output_type": "execute_result"
    }
   ],
   "source": [
    "# The features are\n",
    "\n",
    "df.columns"
   ]
  },
  {
   "cell_type": "code",
   "execution_count": 50,
   "metadata": {
    "collapsed": false
   },
   "outputs": [
    {
     "data": {
      "text/html": [
       "<div>\n",
       "<table border=\"1\" class=\"dataframe\">\n",
       "  <thead>\n",
       "    <tr style=\"text-align: right;\">\n",
       "      <th></th>\n",
       "      <th>Quantity</th>\n",
       "      <th>UnitPrice</th>\n",
       "      <th>CustomerID</th>\n",
       "    </tr>\n",
       "  </thead>\n",
       "  <tbody>\n",
       "    <tr>\n",
       "      <th>count</th>\n",
       "      <td>9999.000000</td>\n",
       "      <td>9999.000000</td>\n",
       "      <td>9999.000000</td>\n",
       "    </tr>\n",
       "    <tr>\n",
       "      <th>mean</th>\n",
       "      <td>20.209021</td>\n",
       "      <td>4.227425</td>\n",
       "      <td>12418.452945</td>\n",
       "    </tr>\n",
       "    <tr>\n",
       "      <th>std</th>\n",
       "      <td>1050.539430</td>\n",
       "      <td>17.110132</td>\n",
       "      <td>38.507666</td>\n",
       "    </tr>\n",
       "    <tr>\n",
       "      <th>min</th>\n",
       "      <td>-74215.000000</td>\n",
       "      <td>0.000000</td>\n",
       "      <td>12346.000000</td>\n",
       "    </tr>\n",
       "    <tr>\n",
       "      <th>25%</th>\n",
       "      <td>6.000000</td>\n",
       "      <td>1.250000</td>\n",
       "      <td>12384.000000</td>\n",
       "    </tr>\n",
       "    <tr>\n",
       "      <th>50%</th>\n",
       "      <td>12.000000</td>\n",
       "      <td>1.950000</td>\n",
       "      <td>12422.000000</td>\n",
       "    </tr>\n",
       "    <tr>\n",
       "      <th>75%</th>\n",
       "      <td>20.000000</td>\n",
       "      <td>4.150000</td>\n",
       "      <td>12451.000000</td>\n",
       "    </tr>\n",
       "    <tr>\n",
       "      <th>max</th>\n",
       "      <td>74215.000000</td>\n",
       "      <td>700.000000</td>\n",
       "      <td>12474.000000</td>\n",
       "    </tr>\n",
       "  </tbody>\n",
       "</table>\n",
       "</div>"
      ],
      "text/plain": [
       "           Quantity    UnitPrice    CustomerID\n",
       "count   9999.000000  9999.000000   9999.000000\n",
       "mean      20.209021     4.227425  12418.452945\n",
       "std     1050.539430    17.110132     38.507666\n",
       "min   -74215.000000     0.000000  12346.000000\n",
       "25%        6.000000     1.250000  12384.000000\n",
       "50%       12.000000     1.950000  12422.000000\n",
       "75%       20.000000     4.150000  12451.000000\n",
       "max    74215.000000   700.000000  12474.000000"
      ]
     },
     "execution_count": 50,
     "metadata": {},
     "output_type": "execute_result"
    }
   ],
   "source": [
    "# Some global description of the columns\n",
    "df.describe()\n",
    "# Notice how the scales are very different among the features"
   ]
  },
  {
   "cell_type": "code",
   "execution_count": 51,
   "metadata": {
    "collapsed": false
   },
   "outputs": [
    {
     "data": {
      "text/plain": [
       "Belgium           1958\n",
       "Germany           1642\n",
       "Switzerland       1444\n",
       "Australia         1243\n",
       "Norway            1033\n",
       "Cyprus             610\n",
       "Finland            403\n",
       "Denmark            356\n",
       "Spain              323\n",
       "Austria            285\n",
       "France             252\n",
       "Iceland            182\n",
       "Portugal            95\n",
       "Italy               73\n",
       "RSA                 58\n",
       "Unspecified         23\n",
       "Bahrain             17\n",
       "United Kingdom       2\n",
       "Name: Country, dtype: int64"
      ]
     },
     "execution_count": 51,
     "metadata": {},
     "output_type": "execute_result"
    }
   ],
   "source": [
    "# Now let's see how many transactions we have per country\n",
    "df.Country.value_counts()"
   ]
  },
  {
   "cell_type": "code",
   "execution_count": 53,
   "metadata": {
    "collapsed": false
   },
   "outputs": [
    {
     "data": {
      "text/plain": [
       "[<matplotlib.lines.Line2D at 0x1140ae588>]"
      ]
     },
     "execution_count": 53,
     "metadata": {},
     "output_type": "execute_result"
    },
    {
     "data": {
      "image/png": "[encoded data removed]",
      "text/plain": [
       "<matplotlib.figure.Figure at 0x1138df898>"
      ]
     },
     "metadata": {},
     "output_type": "display_data"
    }
   ],
   "source": [
    "# Plot the Prices\n",
    "plt.plot(df.UnitPrice,'.')\n",
    "\n",
    "# Notice the outliers, prices that are well above the most frequent values "
   ]
  },
  {
   "cell_type": "code",
   "execution_count": 54,
   "metadata": {
    "collapsed": false
   },
   "outputs": [
    {
     "data": {
      "text/plain": [
       "0    False\n",
       "1    False\n",
       "2    False\n",
       "3    False\n",
       "4    False\n",
       "Name: UnitPrice, dtype: bool"
      ]
     },
     "execution_count": 54,
     "metadata": {},
     "output_type": "execute_result"
    }
   ],
   "source": [
    "# To find these outliers create a condition \n",
    "cond = (df.UnitPrice > 80)\n",
    "\n",
    "# cond is a pd.Series with 9999 rows containing True of False \n",
    "cond.head()\n"
   ]
  },
  {
   "cell_type": "code",
   "execution_count": 55,
   "metadata": {
    "collapsed": false
   },
   "outputs": [
    {
     "data": {
      "text/plain": [
       "(26, 8)"
      ]
     },
     "execution_count": 55,
     "metadata": {},
     "output_type": "execute_result"
    }
   ],
   "source": [
    "# Let's see the rows which have a price greater than 100\n",
    "df[cond].shape"
   ]
  },
  {
   "cell_type": "code",
   "execution_count": 45,
   "metadata": {
    "collapsed": false
   },
   "outputs": [
    {
     "data": {
      "text/plain": [
       "[<matplotlib.lines.Line2D at 0x10b6d4320>]"
      ]
     },
     "execution_count": 45,
     "metadata": {},
     "output_type": "execute_result"
    },
    {
     "data": {
      "image/png": "[encoded data removed]",
      "text/plain": [
       "<matplotlib.figure.Figure at 0x1146998d0>"
      ]
     },
     "metadata": {},
     "output_type": "display_data"
    }
   ],
   "source": [
    "# plot the prices below 100, note the ~ sign to negate the condition\n",
    "\n",
    "plt.plot(df[~cond].UnitPrice,'.')"
   ]
  },
  {
   "cell_type": "code",
   "execution_count": null,
   "metadata": {
    "collapsed": true
   },
   "outputs": [],
   "source": []
  }
 ],
 "metadata": {
  "kernelspec": {
   "display_name": "Python 3",
   "language": "python",
   "name": "python3"
  },
  "language_info": {
   "codemirror_mode": {
    "name": "ipython",
    "version": 3
   },
   "file_extension": ".py",
   "mimetype": "text/x-python",
   "name": "python",
   "nbconvert_exporter": "python",
   "pygments_lexer": "ipython3",
   "version": "3.5.2"
  }
 },
 "nbformat": 4,
 "nbformat_minor": 0
}
