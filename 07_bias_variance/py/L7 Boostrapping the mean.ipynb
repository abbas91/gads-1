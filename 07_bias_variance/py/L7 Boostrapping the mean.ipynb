{
 "cells": [
  {
   "cell_type": "markdown",
   "metadata": {},
   "source": [
    "# Boostrapping to calculate the mean\n",
    "\n",
    "Let's boostrap this set: a = [77, 79, 81, 91, 106, 114, 126, 132] to calculate the mean of its population\n"
   ]
  },
  {
   "cell_type": "code",
   "execution_count": 46,
   "metadata": {
    "collapsed": false
   },
   "outputs": [
    {
     "name": "stdout",
     "output_type": "stream",
     "text": [
      "simple mean 100.75\n"
     ]
    },
    {
     "data": {
      "text/plain": [
       "[80.25,\n",
       " 82.875,\n",
       " 85.125,\n",
       " 86.75,\n",
       " 86.875,\n",
       " 87.25,\n",
       " 89.0,\n",
       " 90.0,\n",
       " 90.875,\n",
       " 91.625,\n",
       " 92.0,\n",
       " 92.375,\n",
       " 93.0,\n",
       " 93.875,\n",
       " 94.0,\n",
       " 94.125,\n",
       " 94.875,\n",
       " 95.0,\n",
       " 95.0,\n",
       " 95.375,\n",
       " 95.375,\n",
       " 95.5,\n",
       " 95.625,\n",
       " 95.75,\n",
       " 96.125,\n",
       " 96.125,\n",
       " 96.5,\n",
       " 96.625,\n",
       " 96.75,\n",
       " 97.125,\n",
       " 97.375,\n",
       " 97.5,\n",
       " 97.875,\n",
       " 98.25,\n",
       " 98.25,\n",
       " 98.5,\n",
       " 98.5,\n",
       " 99.0,\n",
       " 99.0,\n",
       " 99.0,\n",
       " 99.0,\n",
       " 99.5,\n",
       " 99.5,\n",
       " 99.625,\n",
       " 99.75,\n",
       " 100.0,\n",
       " 100.0,\n",
       " 100.5,\n",
       " 100.75,\n",
       " 101.0,\n",
       " 101.0,\n",
       " 101.375,\n",
       " 101.75,\n",
       " 101.875,\n",
       " 102.25,\n",
       " 102.75,\n",
       " 102.875,\n",
       " 103.25,\n",
       " 103.5,\n",
       " 103.625,\n",
       " 103.75,\n",
       " 103.875,\n",
       " 104.25,\n",
       " 104.875,\n",
       " 105.375,\n",
       " 105.875,\n",
       " 105.875,\n",
       " 106.125,\n",
       " 106.25,\n",
       " 106.625,\n",
       " 106.625,\n",
       " 106.75,\n",
       " 106.875,\n",
       " 106.875,\n",
       " 106.875,\n",
       " 106.875,\n",
       " 106.875,\n",
       " 107.25,\n",
       " 107.375,\n",
       " 108.125,\n",
       " 108.375,\n",
       " 108.375,\n",
       " 108.875,\n",
       " 109.0,\n",
       " 109.0,\n",
       " 109.0,\n",
       " 109.125,\n",
       " 109.875,\n",
       " 110.0,\n",
       " 111.0,\n",
       " 111.25,\n",
       " 111.5,\n",
       " 111.5,\n",
       " 111.625,\n",
       " 112.125,\n",
       " 112.25,\n",
       " 112.5,\n",
       " 113.0,\n",
       " 113.0,\n",
       " 116.625]"
      ]
     },
     "execution_count": 46,
     "metadata": {},
     "output_type": "execute_result"
    },
    {
     "data": {
      "image/png": "[encoded data removed]",
      "text/plain": [
       "<matplotlib.figure.Figure at 0x1147bca90>"
      ]
     },
     "metadata": {},
     "output_type": "display_data"
    }
   ],
   "source": [
    "import numpy as np\n",
    "import matplotlib.pyplot as plt\n",
    "import warnings\n",
    "warnings.simplefilter(action = \"ignore\", category = FutureWarning)\n",
    "%matplotlib inline\n",
    "np.random.seed(88)\n",
    "\n",
    "a = [77, 79, 81, 91, 106, 114, 126, 132]\n",
    "\n",
    "print(\"simple mean %0.2f\"% np.mean(a) )\n",
    "\n",
    "mean = []\n",
    "for _ in range(100):\n",
    "    b = np.random.choice(a, len(a))\n",
    "#     print(b)\n",
    "    mean.append(np.mean(b))\n",
    "mean.sort()\n",
    "\n",
    "plt.plot(mean)\n",
    "mean"
   ]
  },
  {
   "cell_type": "markdown",
   "metadata": {},
   "source": [
    "# Look at the distribution of the mean\n"
   ]
  },
  {
   "cell_type": "code",
   "execution_count": 44,
   "metadata": {
    "collapsed": false
   },
   "outputs": [
    {
     "data": {
      "image/png": "[encoded data removed]",
      "text/plain": [
       "<matplotlib.figure.Figure at 0x113e37080>"
      ]
     },
     "metadata": {},
     "output_type": "display_data"
    }
   ],
   "source": [
    "sns.distplot(mean, hist=True);\n"
   ]
  },
  {
   "cell_type": "code",
   "execution_count": 45,
   "metadata": {
    "collapsed": false
   },
   "outputs": [
    {
     "name": "stdout",
     "output_type": "stream",
     "text": [
      "90 pct confidence interval is [87.23 112.13]   \n",
      "Median is 101.00\n",
      "Mean is 101.20\n"
     ]
    },
    {
     "data": {
      "image/png": "[encoded data removed]",
      "text/plain": [
       "<matplotlib.figure.Figure at 0x1146f5208>"
      ]
     },
     "metadata": {},
     "output_type": "display_data"
    }
   ],
   "source": [
    "print(\"90 pct confidence interval is [%0.2f %0.2f]   \"% (np.percentile(mean, 5), np.percentile(mean, 95))   )\n",
    "print(\"Median is %0.2f\"% np.percentile(mean, 50) )\n",
    "print(\"Mean is %0.2f\"% np.mean(mean) )\n",
    "sns.boxplot(mean);"
   ]
  },
  {
   "cell_type": "code",
   "execution_count": null,
   "metadata": {
    "collapsed": true
   },
   "outputs": [],
   "source": []
  }
 ],
 "metadata": {
  "kernelspec": {
   "display_name": "Python 3",
   "language": "python",
   "name": "python3"
  },
  "language_info": {
   "codemirror_mode": {
    "name": "ipython",
    "version": 3
   },
   "file_extension": ".py",
   "mimetype": "text/x-python",
   "name": "python",
   "nbconvert_exporter": "python",
   "pygments_lexer": "ipython3",
   "version": "3.4.4"
  }
 },
 "nbformat": 4,
 "nbformat_minor": 0
}
