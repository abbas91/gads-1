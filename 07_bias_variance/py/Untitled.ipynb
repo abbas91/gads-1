{
 "cells": [
  {
   "cell_type": "code",
   "execution_count": 1,
   "metadata": {
    "collapsed": false
   },
   "outputs": [
    {
     "data": {
      "text/plain": [
       "{'DESCR': 'Linnerrud dataset\\n\\nNotes\\n-----\\nData Set Characteristics:\\n    :Number of Instances: 20\\n    :Number of Attributes: 3\\n    :Missing Attribute Values: None\\n\\nThe Linnerud dataset constains two small dataset:\\n\\n- *exercise*: A list containing the following components: exercise data with\\n  20 observations on 3 exercise variables: Weight, Waist and Pulse.\\n\\n- *physiological*: Data frame with 20 observations on 3 physiological variables:\\n   Chins, Situps and Jumps.\\n\\nReferences\\n----------\\n  * http://rgm2.lab.nig.ac.jp/RGM2/func.php?rd_id=mixOmics:linnerud\\n  * Tenenhaus, M. (1998). La regression PLS: theorie et pratique. Paris: Editions Technic.\\n',\n",
       " 'data': array([[   5.,  162.,   60.],\n",
       "        [   2.,  110.,   60.],\n",
       "        [  12.,  101.,  101.],\n",
       "        [  12.,  105.,   37.],\n",
       "        [  13.,  155.,   58.],\n",
       "        [   4.,  101.,   42.],\n",
       "        [   8.,  101.,   38.],\n",
       "        [   6.,  125.,   40.],\n",
       "        [  15.,  200.,   40.],\n",
       "        [  17.,  251.,  250.],\n",
       "        [  17.,  120.,   38.],\n",
       "        [  13.,  210.,  115.],\n",
       "        [  14.,  215.,  105.],\n",
       "        [   1.,   50.,   50.],\n",
       "        [   6.,   70.,   31.],\n",
       "        [  12.,  210.,  120.],\n",
       "        [   4.,   60.,   25.],\n",
       "        [  11.,  230.,   80.],\n",
       "        [  15.,  225.,   73.],\n",
       "        [   2.,  110.,   43.]]),\n",
       " 'feature_names': ['Chins', 'Situps', 'Jumps'],\n",
       " 'target': array([[ 191.,   36.,   50.],\n",
       "        [ 189.,   37.,   52.],\n",
       "        [ 193.,   38.,   58.],\n",
       "        [ 162.,   35.,   62.],\n",
       "        [ 189.,   35.,   46.],\n",
       "        [ 182.,   36.,   56.],\n",
       "        [ 211.,   38.,   56.],\n",
       "        [ 167.,   34.,   60.],\n",
       "        [ 176.,   31.,   74.],\n",
       "        [ 154.,   33.,   56.],\n",
       "        [ 169.,   34.,   50.],\n",
       "        [ 166.,   33.,   52.],\n",
       "        [ 154.,   34.,   64.],\n",
       "        [ 247.,   46.,   50.],\n",
       "        [ 193.,   36.,   46.],\n",
       "        [ 202.,   37.,   62.],\n",
       "        [ 176.,   37.,   54.],\n",
       "        [ 157.,   32.,   52.],\n",
       "        [ 156.,   33.,   54.],\n",
       "        [ 138.,   33.,   68.]]),\n",
       " 'target_names': ['Weight', 'Waist', 'Pulse']}"
      ]
     },
     "execution_count": 1,
     "metadata": {},
     "output_type": "execute_result"
    }
   ],
   "source": [
    "from sklearn import datasets\n",
    "df = datasets.load_linnerud()\n",
    "df"
   ]
  },
  {
   "cell_type": "code",
   "execution_count": null,
   "metadata": {
    "collapsed": true
   },
   "outputs": [],
   "source": []
  }
 ],
 "metadata": {
  "kernelspec": {
   "display_name": "Python 3",
   "language": "python",
   "name": "python3"
  },
  "language_info": {
   "codemirror_mode": {
    "name": "ipython",
    "version": 3
   },
   "file_extension": ".py",
   "mimetype": "text/x-python",
   "name": "python",
   "nbconvert_exporter": "python",
   "pygments_lexer": "ipython3",
   "version": "3.4.4"
  }
 },
 "nbformat": 4,
 "nbformat_minor": 0
}
