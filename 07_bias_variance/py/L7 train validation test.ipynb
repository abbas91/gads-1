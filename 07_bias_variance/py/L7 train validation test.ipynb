{
 "cells": [
  {
   "cell_type": "code",
   "execution_count": 2,
   "metadata": {
    "collapsed": false
   },
   "outputs": [],
   "source": [
    "import numpy as np\n",
    "import pandas as pd\n",
    "from sklearn import linear_model\n",
    "from sklearn.metrics import mean_squared_error\n",
    "\n",
    "import matplotlib.pyplot as plt\n",
    "import warnings\n",
    "import seaborn as sns; \n",
    "sns.set(style=\"ticks\", color_codes=True)\n",
    "warnings.simplefilter(action = \"ignore\", category = FutureWarning)\n",
    "\n",
    "%matplotlib inline\n",
    "\n",
    "# to split the data\n",
    "from sklearn.cross_validation import train_test_split\n",
    "\n",
    "df = pd.read_csv('../data/housing.data.csv')\n",
    "\n",
    "\n",
    "# Extract matrix and target from df\n",
    "# I removed 'CHAS' a binary feature\n",
    "\n",
    "# You can try different removing different features\n",
    "X = df[ ['CRIM','ZN', 'INDUS', 'NOX', 'RM', 'AGE', 'DIS', 'RAD', 'TAX', 'PTRATIO', 'LSTAT'] ].values\n",
    "\n",
    "# Target\n",
    "y = df['MEDV']\n"
   ]
  },
  {
   "cell_type": "markdown",
   "metadata": {},
   "source": [
    "# First the test set\n",
    "\n",
    "Using [sklearn.cross_validation.train_test_split](http://scikit-learn.org/stable/modules/generated/sklearn.cross_validation.train_test_split.html#sklearn.cross_validation.train_test_split)\n",
    "\n",
    "Split the data in 60% / 40%\n",
    "\n"
   ]
  },
  {
   "cell_type": "code",
   "execution_count": 4,
   "metadata": {
    "collapsed": false
   },
   "outputs": [
    {
     "name": "stdout",
     "output_type": "stream",
     "text": [
      "(303, 11)\n",
      "(203, 11)\n"
     ]
    }
   ],
   "source": [
    "seed = 8\n",
    "X_train, X_temp, y_train, y_temp = train_test_split(X, y, test_size=0.40, random_state=seed)\n",
    "\n",
    "print(X_train.shape)\n",
    "print(X_temp.shape)"
   ]
  },
  {
   "cell_type": "markdown",
   "metadata": {},
   "source": [
    "# Further split the smallest subset into train and validation (50/50)\n"
   ]
  },
  {
   "cell_type": "code",
   "execution_count": 5,
   "metadata": {
    "collapsed": true
   },
   "outputs": [],
   "source": [
    "X_valid, X_test, y_valid, y_test = train_test_split(X_temp, y_temp, test_size=0.5, random_state=seed)"
   ]
  },
  {
   "cell_type": "code",
   "execution_count": 6,
   "metadata": {
    "collapsed": false
   },
   "outputs": [
    {
     "name": "stdout",
     "output_type": "stream",
     "text": [
      "(303, 11)\n",
      "(101, 11)\n",
      "(102, 11)\n"
     ]
    }
   ],
   "source": [
    "print(X_train.shape)\n",
    "print(X_valid.shape)\n",
    "print(X_test.shape)"
   ]
  },
  {
   "cell_type": "markdown",
   "metadata": {},
   "source": [
    "# Train your Ridge models \n",
    "\n",
    "$ \n",
    "\\alpha =  [0.001, 0.005, 0.01,0.025, 0.05, 0.075, 0.1, 0.5, 1, 2]\n",
    "$\n",
    "\n",
    "    MSE = []\n",
    "    alphas = [0.01, 0.1, 0.5, 1, 2]\n",
    "    for a in alphas:\n",
    "        lm = linear_model.Ridge(alpha = a)\n",
    "        lm.fit(X_train, y_train)\n",
    "        y_hat = lm.predict(X_valid)\n",
    "        MSE.append( mean_squared_error(y_valid - y_hat) )\n",
    "\n",
    "    MSE\n",
    "    plot(np.log(alphas), MSE)\n",
    "    \n",
    "* Add something to the code above to memorize the best score and best model    \n",
    "* Try different split ratios for the train, validation, test subsets\n",
    "* also try different list of values for alphas\n",
    "\n"
   ]
  },
  {
   "cell_type": "markdown",
   "metadata": {},
   "source": [
    "# Score on Test set\n",
    "\n",
    "* apply your best model to the test set\n",
    "* calculate the MSE\n",
    "* what happens when you change the seed ?\n",
    "\n"
   ]
  },
  {
   "cell_type": "code",
   "execution_count": 13,
   "metadata": {
    "collapsed": false
   },
   "outputs": [
    {
     "name": "stdout",
     "output_type": "stream",
     "text": [
      "score : 26.7597859884 best score 26.7597859884\n",
      "Ridge(alpha=0.001, copy_X=True, fit_intercept=True, max_iter=None,\n",
      "   normalize=False, random_state=None, solver='auto', tol=0.001)\n",
      "----\n",
      " Best Score: 26.7597859884\n",
      "Model:\n",
      "Ridge(alpha=0.001, copy_X=True, fit_intercept=True, max_iter=None,\n",
      "   normalize=False, random_state=None, solver='auto', tol=0.001)\n",
      "[26.759785988383051, 26.767471919051989, 26.777002002645737, 26.805086995219515, 26.850272959116246, 26.893536800513616, 26.934992511447771, 27.41966817012441, 27.758994678845838, 28.094999893348067]\n"
     ]
    },
    {
     "data": {
      "image/png": "[encoded data removed]",
      "text/plain": [
       "<matplotlib.figure.Figure at 0x114b23cc0>"
      ]
     },
     "metadata": {},
     "output_type": "display_data"
    }
   ],
   "source": [
    "np.random.seed(88)\n",
    "MSE = []\n",
    "alphas = [0.001, 0.005, 0.01,0.025, 0.05, 0.075, 0.1, 0.5, 1, 2]\n",
    "best_score = 100\n",
    "best_lm = linear_model.Ridge()\n",
    "\n",
    "for a in alphas:\n",
    "    lm = linear_model.Ridge(alpha = a)\n",
    "    lm.fit(X_train, y_train)\n",
    "    # predict on validation set\n",
    "    y_hat = lm.predict(X_valid)\n",
    "    score = mean_squared_error(y_valid, y_hat)\n",
    "    if score < best_score:\n",
    "        best_lm = lm\n",
    "        best_score = score\n",
    "        print(\"score : %s best score %s\"% (score, best_score))\n",
    "        print(best_lm)\n",
    "    MSE.append( mean_squared_error(y_valid, y_hat) )\n",
    "\n",
    "plt.plot(np.log(alphas), MSE)\n",
    "plt.xlabel('log(alpha)')\n",
    "plt.ylabel('MSE')\n",
    "\n",
    "print('----\\n Best Score: %s'% best_score)\n",
    "print('Model:')\n",
    "print(best_lm)\n",
    "print(MSE)"
   ]
  },
  {
   "cell_type": "code",
   "execution_count": null,
   "metadata": {
    "collapsed": true
   },
   "outputs": [],
   "source": []
  }
 ],
 "metadata": {
  "kernelspec": {
   "display_name": "Python 3",
   "language": "python",
   "name": "python3"
  },
  "language_info": {
   "codemirror_mode": {
    "name": "ipython",
    "version": 3
   },
   "file_extension": ".py",
   "mimetype": "text/x-python",
   "name": "python",
   "nbconvert_exporter": "python",
   "pygments_lexer": "ipython3",
   "version": "3.4.4"
  }
 },
 "nbformat": 4,
 "nbformat_minor": 0
}
