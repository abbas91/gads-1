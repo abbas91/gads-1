{
 "cells": [
  {
   "cell_type": "code",
   "execution_count": 8,
   "metadata": {
    "collapsed": false
   },
   "outputs": [
    {
     "name": "stdout",
     "output_type": "stream",
     "text": [
      "  default student      balance       income\n",
      "0      No      No   729.526495  44361.62507\n",
      "1      No     Yes   817.180407  12106.13470\n",
      "2      No      No  1073.549164  31767.13895\n",
      "3      No      No   529.250605  35704.49394\n",
      "4      No      No   785.655883  38463.49588\n"
     ]
    },
    {
     "data": {
      "text/plain": [
       "<matplotlib.axes._subplots.AxesSubplot at 0x113b0a518>"
      ]
     },
     "execution_count": 8,
     "metadata": {},
     "output_type": "execute_result"
    },
    {
     "data": {
      "image/png": "[encoded data removed]",
      "text/plain": [
       "<matplotlib.figure.Figure at 0x113ab8ac8>"
      ]
     },
     "metadata": {},
     "output_type": "display_data"
    }
   ],
   "source": [
    "import numpy as np\n",
    "import pandas as pd\n",
    "\n",
    "from sklearn.metrics import accuracy_score\n",
    "from sklearn.grid_search import GridSearchCV\n",
    "from sklearn.neighbors import KNeighborsClassifier\n",
    "from sklearn.linear_model import LogisticRegression\n",
    "from sklearn.metrics  import confusion_matrix\n",
    "import statsmodels.api as sm\n",
    "import statsmodels.formula.api as smf\n",
    "\n",
    "import matplotlib as mpl\n",
    "import matplotlib.pyplot as plt\n",
    "%matplotlib inline\n",
    "import seaborn as sns\n",
    "plt.style.use('fivethirtyeight')\n",
    "\n",
    "\n",
    "np.random.seed(8)\n",
    "\n",
    "# ----------------------------------------------------------------------------\n",
    "#  Exploratory analysis of the Default Dataset\n",
    "# ----------------------------------------------------------------------------\n",
    "\n",
    "df = pd.read_csv('../data/Default.csv', index_col = False)\n",
    "\n",
    "# 10000 rows with\n",
    "df.shape\n",
    "print(df.head())\n",
    "\n",
    "\n",
    "# Factorize / Encode the student regressor and the default target\n",
    "df['default_fact']   = df.default.factorize()[0]\n",
    "df['student_fact']   = df.student.factorize()[0]\n",
    "\n",
    "# # describe\n",
    "# print(df.describe())\n",
    "\n",
    "# # box plots balance and income vs default\n",
    "fig = plt.figure(figsize=(9,6))\n",
    "ax1 = plt.subplot(121)\n",
    "ax2 = plt.subplot(122)\n",
    "\n",
    "c_palette = {'No':'lightblue', 'Yes':'orange'}\n",
    "sns.boxplot('default', 'balance', data=df, orient='v', ax=ax1, palette=c_palette)\n",
    "sns.boxplot('default', 'income', data=df, orient='v', ax=ax2, palette=c_palette)\n",
    "\n"
   ]
  },
  {
   "cell_type": "code",
   "execution_count": 12,
   "metadata": {
    "collapsed": false
   },
   "outputs": [
    {
     "name": "stdout",
     "output_type": "stream",
     "text": [
      "Optimization terminated successfully.\n",
      "         Current function value: 0.079823\n",
      "         Iterations 10\n",
      "==============================================================================\n",
      "                 coef    std err          z      P>|z|      [95.0% Conf. Int.]\n",
      "------------------------------------------------------------------------------\n",
      "const        -10.6513      0.361    -29.491      0.000       -11.359    -9.943\n",
      "balance        0.0055      0.000     24.952      0.000         0.005     0.006\n",
      "==============================================================================\n"
     ]
    }
   ],
   "source": [
    "X_sm = sm.add_constant(df.balance)\n",
    "# X_sm \n",
    "clf = sm.Logit(df.default_fact, X_sm).fit()\n",
    "print(clf.summary().tables[1])"
   ]
  },
  {
   "cell_type": "code",
   "execution_count": 16,
   "metadata": {
    "collapsed": false
   },
   "outputs": [
    {
     "name": "stdout",
     "output_type": "stream",
     "text": [
      "Optimization terminated successfully.\n",
      "         Current function value: 0.078584\n",
      "         Iterations 10\n",
      "================================================================================\n",
      "                   coef    std err          z      P>|z|      [95.0% Conf. Int.]\n",
      "--------------------------------------------------------------------------------\n",
      "const          -10.7495      0.369    -29.115      0.000       -11.473   -10.026\n",
      "balance          0.0057      0.000     24.748      0.000         0.005     0.006\n",
      "student_fact    -0.7149      0.148     -4.846      0.000        -1.004    -0.426\n",
      "================================================================================\n"
     ]
    }
   ],
   "source": [
    "X_sm = sm.add_constant(df[['balance', 'student_fact']])\n",
    "\n",
    "clf = sm.Logit(df.default_fact, X_sm).fit()\n",
    "print(clf.summary().tables[1])"
   ]
  },
  {
   "cell_type": "code",
   "execution_count": 15,
   "metadata": {
    "collapsed": false
   },
   "outputs": [
    {
     "name": "stdout",
     "output_type": "stream",
     "text": [
      "Optimization terminated successfully.\n",
      "         Current function value: 0.145434\n",
      "         Iterations 7\n",
      "================================================================================\n",
      "                   coef    std err          z      P>|z|      [95.0% Conf. Int.]\n",
      "--------------------------------------------------------------------------------\n",
      "const           -3.5041      0.071    -49.554      0.000        -3.643    -3.366\n",
      "student_fact     0.4049      0.115      3.520      0.000         0.179     0.630\n",
      "================================================================================\n"
     ]
    }
   ],
   "source": [
    "X_sm = sm.add_constant(df[['student_fact']])\n",
    "\n",
    "clf = sm.Logit(df.default_fact, X_sm).fit()\n",
    "print(clf.summary().tables[1])"
   ]
  },
  {
   "cell_type": "code",
   "execution_count": 18,
   "metadata": {
    "collapsed": false
   },
   "outputs": [
    {
     "data": {
      "text/plain": [
       "<matplotlib.axes._subplots.AxesSubplot at 0x113fda278>"
      ]
     },
     "execution_count": 18,
     "metadata": {},
     "output_type": "execute_result"
    },
    {
     "data": {
      "image/png": "[encoded data removed]",
      "text/plain": [
       "<matplotlib.figure.Figure at 0x113fd79e8>"
      ]
     },
     "metadata": {},
     "output_type": "display_data"
    }
   ],
   "source": [
    "fig = plt.figure(figsize=(9,6))\n",
    "ax1 = plt.subplot(121)\n",
    "ax2 = plt.subplot(122)\n",
    "\n",
    "c_palette = {'No':'lightblue', 'Yes':'orange'}\n",
    "\n",
    "sns.boxplot('default', 'balance', data=df[df.student_fact == 0], orient='v', ax=ax1, palette=c_palette)\n",
    "sns.boxplot('default', 'balance', data=df[df.student_fact == 1], orient='v', ax=ax2, palette=c_palette)\n"
   ]
  },
  {
   "cell_type": "code",
   "execution_count": 19,
   "metadata": {
    "collapsed": false
   },
   "outputs": [
    {
     "name": "stdout",
     "output_type": "stream",
     "text": [
      "Optimization terminated successfully.\n",
      "         Current function value: 0.078577\n",
      "         Iterations 10\n",
      "================================================================================\n",
      "                   coef    std err          z      P>|z|      [95.0% Conf. Int.]\n",
      "--------------------------------------------------------------------------------\n",
      "const          -10.8690      0.492    -22.079      0.000       -11.834    -9.904\n",
      "balance          0.0057      0.000     24.737      0.000         0.005     0.006\n",
      "income        3.033e-06    8.2e-06      0.370      0.712      -1.3e-05  1.91e-05\n",
      "student_fact    -0.6468      0.236     -2.738      0.006        -1.110    -0.184\n",
      "================================================================================\n"
     ]
    }
   ],
   "source": [
    "X_sm = sm.add_constant(df[['balance','income', 'student_fact']])\n",
    "\n",
    "clf = sm.Logit(df.default_fact, X_sm).fit()\n",
    "print(clf.summary().tables[1])"
   ]
  },
  {
   "cell_type": "code",
   "execution_count": 22,
   "metadata": {
    "collapsed": false
   },
   "outputs": [
    {
     "name": "stdout",
     "output_type": "stream",
     "text": [
      "student odds ratio :-2.91 \n",
      "Default Probability for Student: 0.0516\n",
      "Non student odds ratio :-2.26 \n",
      "Default Probability for Non Student: 0.0941\n"
     ]
    }
   ],
   "source": [
    "# a student with a credit card balance of \\$1500 and income of \\$40k\n",
    "\n",
    "yy = clf.params['const'] + clf.params['student_fact'] + clf.params['balance'] * 1500 +  clf.params['income'] * 40\n",
    "p = np.exp(yy) / (1+ np.exp(yy))\n",
    "print(\"student odds ratio :%0.2f \"% yy )\n",
    "print(\"Default Probability for Student: %0.4f\"%  p )\n",
    "# Probability of default for a student with a credit card balance of 1500 and income of 40k\n",
    "\n",
    "yy = clf.params['const'] + clf.params['balance'] * 1500 +  clf.params['income'] * 40\n",
    "p = np.exp(yy) / (1+ np.exp(yy))\n",
    "print(\"Non student odds ratio :%0.2f \"% yy )\n",
    "print(\"Default Probability for Non Student: %0.4f\"%  p )\n"
   ]
  },
  {
   "cell_type": "code",
   "execution_count": 24,
   "metadata": {
    "collapsed": false
   },
   "outputs": [
    {
     "data": {
      "text/plain": [
       "array([[3, 2],\n",
       "       [1, 4]])"
      ]
     },
     "execution_count": 24,
     "metadata": {},
     "output_type": "execute_result"
    }
   ],
   "source": [
    "\n",
    "from sklearn.metrics import confusion_matrix\n",
    "y_true = [0,0,0,0,0,1,1,1,1,1]\n",
    "y_pred = [0,0,0,1,1,0,1,1,1,1]\n",
    "confusion_matrix(y_true, y_pred)\n",
    "\n"
   ]
  },
  {
   "cell_type": "code",
   "execution_count": 25,
   "metadata": {
    "collapsed": true
   },
   "outputs": [],
   "source": [
    "?confusion_matrix"
   ]
  },
  {
   "cell_type": "code",
   "execution_count": null,
   "metadata": {
    "collapsed": true
   },
   "outputs": [],
   "source": []
  }
 ],
 "metadata": {
  "kernelspec": {
   "display_name": "Python 3",
   "language": "python",
   "name": "python3"
  },
  "language_info": {
   "codemirror_mode": {
    "name": "ipython",
    "version": 3
   },
   "file_extension": ".py",
   "mimetype": "text/x-python",
   "name": "python",
   "nbconvert_exporter": "python",
   "pygments_lexer": "ipython3",
   "version": "3.4.4"
  }
 },
 "nbformat": 4,
 "nbformat_minor": 0
}
