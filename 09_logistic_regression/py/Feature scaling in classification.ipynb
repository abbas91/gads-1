{
 "cells": [
  {
   "cell_type": "code",
   "execution_count": 48,
   "metadata": {
    "collapsed": false
   },
   "outputs": [],
   "source": [
    "import pandas as pd\n",
    "import numpy as np\n",
    "import matplotlib as mpl\n",
    "import matplotlib.pyplot as plt\n",
    "import seaborn as sns\n",
    "\n",
    "import sklearn.linear_model as skl_lm\n",
    "from sklearn.discriminant_analysis import LinearDiscriminantAnalysis\n",
    "from sklearn.discriminant_analysis import QuadraticDiscriminantAnalysis\n",
    "from sklearn.metrics import confusion_matrix, classification_report, precision_score\n",
    "from sklearn import preprocessing\n",
    "from sklearn import neighbors\n",
    "\n",
    "from sklearn import neighbors\n",
    "\n",
    "\n",
    "from sklearn.cross_validation import train_test_split\n",
    "\n",
    "import statsmodels.api as sm\n",
    "import statsmodels.formula.api as smf\n",
    "\n",
    "\n",
    "%matplotlib inline\n",
    "\n",
    "from sklearn.metrics import accuracy_score\n"
   ]
  },
  {
   "cell_type": "code",
   "execution_count": 62,
   "metadata": {
    "collapsed": false
   },
   "outputs": [
    {
     "data": {
      "text/plain": [
       "        Unnamed: 0       balance        income      default2      student2\n",
       "count  10000.00000  10000.000000  10000.000000  10000.000000  10000.000000\n",
       "mean    5000.50000      8.353749  33516.981876      0.033300      0.294400\n",
       "std     2886.89568      4.837150  13336.639563      0.179428      0.455795\n",
       "min        1.00000      0.000000    771.967729      0.000000      0.000000\n",
       "25%     2500.75000      4.817311  21340.462905      0.000000      0.000000\n",
       "50%     5000.50000      8.236370  34552.644800      0.000000      0.000000\n",
       "75%     7500.25000     11.663084  43807.729275      0.000000      1.000000\n",
       "max    10000.00000     26.543226  73554.233500      1.000000      1.000000"
      ]
     },
     "execution_count": 62,
     "metadata": {},
     "output_type": "execute_result"
    }
   ],
   "source": [
    "df = pd.read_csv('../data/Default.csv', index_col=False)\n",
    "\n",
    "\n",
    "# Note: factorize() returns two objects: a label array and an array with the unique values.\n",
    "df['default2'] = df.default.factorize()[0]\n",
    "df['student2'] = df.student.factorize()[0]\n",
    "df.describe()"
   ]
  },
  {
   "cell_type": "code",
   "execution_count": 71,
   "metadata": {
    "collapsed": false
   },
   "outputs": [
    {
     "name": "stdout",
     "output_type": "stream",
     "text": [
      "[[8662   34]\n",
      " [ 214   90]]\n",
      "0.972444444444\n",
      "[[8683   13]\n",
      " [ 302    2]]\n",
      "0.965\n",
      "[[8696    0]\n",
      " [ 304    0]]\n",
      "0.966222222222\n"
     ]
    }
   ],
   "source": [
    "# split test train\n",
    "\n",
    "X = df[['balance','income','student2']]\n",
    "y = df.default2\n",
    "\n",
    "X_train, X_test, y_train, y_test = train_test_split( X, y, test_size=0.9, random_state=42)\n",
    "\n",
    "# linear regresison on balance and incomine\n",
    "\n",
    "clf = skl_lm.LogisticRegression(penalty = 'l1')\n",
    "\n",
    "clf.fit(X_train,y_train)\n",
    "y_hat = clf.predict(X_test)\n",
    "\n",
    "print(confusion_matrix(y_test, y_hat))\n",
    "print(accuracy_score(y_test, y_hat) )\n",
    "\n",
    "\n",
    "knn = neighbors.KNeighborsClassifier(n_neighbors = 2, p = 2)\n",
    "knn.fit(X_train,y_train)\n",
    "y_hat = knn.predict(X_test)\n",
    "\n",
    "print(confusion_matrix(y_test, y_hat))\n",
    "print(accuracy_score(y_test, y_hat) )\n",
    "\n",
    "\n",
    "from sklearn.svm import LinearSVC\n",
    "\n",
    "svc = LinearSVC(C = 0.001)\n",
    "\n",
    "svc.fit(X_train,y_train)\n",
    "y_hat = svc.predict(X_test)\n",
    "\n",
    "print(confusion_matrix(y_test, y_hat))\n",
    "print(accuracy_score(y_test, y_hat) )\n"
   ]
  },
  {
   "cell_type": "code",
   "execution_count": 72,
   "metadata": {
    "collapsed": false
   },
   "outputs": [
    {
     "name": "stdout",
     "output_type": "stream",
     "text": [
      "[[8660   36]\n",
      " [ 211   93]]\n",
      "0.972555555556\n",
      "[[8672   24]\n",
      " [ 240   64]]\n",
      "0.970666666667\n",
      "[[8696    0]\n",
      " [ 304    0]]\n",
      "0.966222222222\n"
     ]
    }
   ],
   "source": [
    "# normalize\n",
    "from sklearn import preprocessing\n",
    "scaler = preprocessing.StandardScaler().fit(X)\n",
    "\n",
    "\n",
    "\n",
    "# Mean and std of X\n",
    "scaler.mean_\n",
    "scaler.scale_\n",
    "\n",
    "# Scale and Transform\n",
    "XX = scaler.transform(X)\n",
    "\n",
    "X_train, X_test, y_train, y_test = train_test_split( XX, y, test_size=0.9, random_state=42)\n",
    "\n",
    "# linear regresison on balance and incomine\n",
    "\n",
    "clf = skl_lm.LogisticRegression(penalty = 'l1')\n",
    "\n",
    "clf.fit(X_train,y_train)\n",
    "y_hat = clf.predict(X_test)\n",
    "\n",
    "print(confusion_matrix(y_test, y_hat))\n",
    "print(accuracy_score(y_test, y_hat) )\n",
    "\n",
    "knn = neighbors.KNeighborsClassifier(n_neighbors = 2, p = 2)\n",
    "knn.fit(X_train,y_train)\n",
    "y_hat = knn.predict(X_test)\n",
    "\n",
    "print(confusion_matrix(y_test, y_hat))\n",
    "print(accuracy_score(y_test, y_hat) )\n",
    "\n",
    "\n",
    "svc = LinearSVC(C = 0.001)\n",
    "\n",
    "svc.fit(X_train,y_train)\n",
    "y_hat = svc.predict(X_test)\n",
    "\n",
    "print(confusion_matrix(y_test, y_hat))\n",
    "print(accuracy_score(y_test, y_hat) )\n"
   ]
  },
  {
   "cell_type": "code",
   "execution_count": 127,
   "metadata": {
    "collapsed": false
   },
   "outputs": [
    {
     "name": "stdout",
     "output_type": "stream",
     "text": [
      "[[1929    4]\n",
      " [  46   21]]\n"
     ]
    }
   ],
   "source": [
    "X = df[['balance','income']]\n",
    "df['default_fact'] = df.default.factorize()[0]\n",
    "y = df['default_fact']\n",
    "from sklearn.preprocessing import StandardScaler\n",
    "from sklearn.linear_model import LogisticRegression\n",
    "from sklearn.grid_search import GridSearchCV\n",
    "scaler = StandardScaler()\n",
    "\n",
    "\n",
    "\n",
    "X_train, X_test, y_train, y_test = train_test_split(X, y, test_size=0.20, random_state=88)\n",
    "\n",
    "\n",
    "# scaler.fit(X_train)\n",
    "\n",
    "# XX = scaler.transform(X_train)\n",
    "XX = scaler.fit_transform(X_train)\n",
    "\n",
    "\n",
    "lr = LogisticRegression()\n",
    "parameters = {'solver': ['newton-cg','lbfgs','liblinear','sag']}\n",
    "\n",
    "clf = GridSearchCV(lr, parameters, cv = 5)\n",
    "\n",
    "clf.fit(XX, y_train)\n",
    "\n",
    "best_clf = clf.best_estimator_\n",
    "\n",
    "y_hat = best_clf.predict(scaler.transform(X_test))\n",
    "print(confusion_matrix(y_test, y_hat) )\n"
   ]
  },
  {
   "cell_type": "code",
   "execution_count": 130,
   "metadata": {
    "collapsed": false
   },
   "outputs": [
    {
     "data": {
      "text/plain": [
       "array([  4.83400782e+00,   1.33975451e+04])"
      ]
     },
     "execution_count": 130,
     "metadata": {},
     "output_type": "execute_result"
    }
   ],
   "source": [
    "scaler.scale_"
   ]
  },
  {
   "cell_type": "code",
   "execution_count": 131,
   "metadata": {
    "collapsed": false
   },
   "outputs": [
    {
     "data": {
      "text/plain": [
       "array([[ 2.72111771,  0.25106203]])"
      ]
     },
     "execution_count": 131,
     "metadata": {},
     "output_type": "execute_result"
    }
   ],
   "source": [
    "best_clf.coef_"
   ]
  },
  {
   "cell_type": "code",
   "execution_count": null,
   "metadata": {
    "collapsed": true
   },
   "outputs": [],
   "source": []
  }
 ],
 "metadata": {
  "kernelspec": {
   "display_name": "Python 3",
   "language": "python",
   "name": "python3"
  },
  "language_info": {
   "codemirror_mode": {
    "name": "ipython",
    "version": 3
   },
   "file_extension": ".py",
   "mimetype": "text/x-python",
   "name": "python",
   "nbconvert_exporter": "python",
   "pygments_lexer": "ipython3",
   "version": "3.4.4"
  }
 },
 "nbformat": 4,
 "nbformat_minor": 0
}
