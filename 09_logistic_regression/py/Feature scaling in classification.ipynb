{
 "cells": [
  {
   "cell_type": "code",
   "execution_count": 48,
   "metadata": {
    "collapsed": false
   },
   "outputs": [],
   "source": [
    "import pandas as pd\n",
    "import numpy as np\n",
    "import matplotlib as mpl\n",
    "import matplotlib.pyplot as plt\n",
    "import seaborn as sns\n",
    "\n",
    "import sklearn.linear_model as skl_lm\n",
    "from sklearn.discriminant_analysis import LinearDiscriminantAnalysis\n",
    "from sklearn.discriminant_analysis import QuadraticDiscriminantAnalysis\n",
    "from sklearn.metrics import confusion_matrix, classification_report, precision_score\n",
    "from sklearn import preprocessing\n",
    "from sklearn import neighbors\n",
    "\n",
    "from sklearn import neighbors\n",
    "\n",
    "\n",
    "from sklearn.cross_validation import train_test_split\n",
    "\n",
    "import statsmodels.api as sm\n",
    "import statsmodels.formula.api as smf\n",
    "\n",
    "\n",
    "%matplotlib inline\n",
    "\n",
    "from sklearn.metrics import accuracy_score\n"
   ]
  },
  {
   "cell_type": "code",
   "execution_count": 62,
   "metadata": {
    "collapsed": false
   },
   "outputs": [
    {
     "data": {
      "text/plain": [
       "        Unnamed: 0       balance        income      default2      student2\n",
       "count  10000.00000  10000.000000  10000.000000  10000.000000  10000.000000\n",
       "mean    5000.50000      8.353749  33516.981876      0.033300      0.294400\n",
       "std     2886.89568      4.837150  13336.639563      0.179428      0.455795\n",
       "min        1.00000      0.000000    771.967729      0.000000      0.000000\n",
       "25%     2500.75000      4.817311  21340.462905      0.000000      0.000000\n",
       "50%     5000.50000      8.236370  34552.644800      0.000000      0.000000\n",
       "75%     7500.25000     11.663084  43807.729275      0.000000      1.000000\n",
       "max    10000.00000     26.543226  73554.233500      1.000000      1.000000"
      ]
     },
     "execution_count": 62,
     "metadata": {},
     "output_type": "execute_result"
    }
   ],
   "source": [
    "df = pd.read_csv('../data/Default.csv', index_col=False)\n",
    "\n",
    "\n",
    "# Note: factorize() returns two objects: a label array and an array with the unique values.\n",
    "df['default2'] = df.default.factorize()[0]\n",
    "df['student2'] = df.student.factorize()[0]\n",
    "df.describe()"
   ]
  },
  {
   "cell_type": "code",
   "execution_count": 71,
   "metadata": {
    "collapsed": false
   },
   "outputs": [
    {
     "name": "stdout",
     "output_type": "stream",
     "text": [
      "[[8662   34]\n",
      " [ 214   90]]\n",
      "0.972444444444\n",
      "[[8683   13]\n",
      " [ 302    2]]\n",
      "0.965\n",
      "[[8696    0]\n",
      " [ 304    0]]\n",
      "0.966222222222\n"
     ]
    }
   ],
   "source": [
    "# split test train\n",
    "\n",
    "X = df[['balance','income','student2']]\n",
    "y = df.default2\n",
    "\n",
    "X_train, X_test, y_train, y_test = train_test_split( X, y, test_size=0.9, random_state=42)\n",
    "\n",
    "# linear regresison on balance and incomine\n",
    "\n",
    "clf = skl_lm.LogisticRegression(penalty = 'l1')\n",
    "\n",
    "clf.fit(X_train,y_train)\n",
    "y_hat = clf.predict(X_test)\n",
    "\n",
    "print(confusion_matrix(y_test, y_hat))\n",
    "print(accuracy_score(y_test, y_hat) )\n",
    "\n",
    "\n",
    "knn = neighbors.KNeighborsClassifier(n_neighbors = 2, p = 2)\n",
    "knn.fit(X_train,y_train)\n",
    "y_hat = knn.predict(X_test)\n",
    "\n",
    "print(confusion_matrix(y_test, y_hat))\n",
    "print(accuracy_score(y_test, y_hat) )\n",
    "\n",
    "\n",
    "from sklearn.svm import LinearSVC\n",
    "\n",
    "svc = LinearSVC(C = 0.001)\n",
    "\n",
    "svc.fit(X_train,y_train)\n",
    "y_hat = svc.predict(X_test)\n",
    "\n",
    "print(confusion_matrix(y_test, y_hat))\n",
    "print(accuracy_score(y_test, y_hat) )\n"
   ]
  },
  {
   "cell_type": "code",
   "execution_count": 72,
   "metadata": {
    "collapsed": false
   },
   "outputs": [
    {
     "name": "stdout",
     "output_type": "stream",
     "text": [
      "[[8660   36]\n",
      " [ 211   93]]\n",
      "0.972555555556\n",
      "[[8672   24]\n",
      " [ 240   64]]\n",
      "0.970666666667\n",
      "[[8696    0]\n",
      " [ 304    0]]\n",
      "0.966222222222\n"
     ]
    }
   ],
   "source": [
    "# normalize\n",
    "from sklearn import preprocessing\n",
    "scaler = preprocessing.StandardScaler().fit(X)\n",
    "\n",
    "\n",
    "\n",
    "# Mean and std of X\n",
    "scaler.mean_\n",
    "scaler.scale_\n",
    "\n",
    "# Scale and Transform\n",
    "XX = scaler.transform(X)\n",
    "\n",
    "X_train, X_test, y_train, y_test = train_test_split( XX, y, test_size=0.9, random_state=42)\n",
    "\n",
    "# linear regresison on balance and incomine\n",
    "\n",
    "clf = skl_lm.LogisticRegression(penalty = 'l1')\n",
    "\n",
    "clf.fit(X_train,y_train)\n",
    "y_hat = clf.predict(X_test)\n",
    "\n",
    "print(confusion_matrix(y_test, y_hat))\n",
    "print(accuracy_score(y_test, y_hat) )\n",
    "\n",
    "knn = neighbors.KNeighborsClassifier(n_neighbors = 2, p = 2)\n",
    "knn.fit(X_train,y_train)\n",
    "y_hat = knn.predict(X_test)\n",
    "\n",
    "print(confusion_matrix(y_test, y_hat))\n",
    "print(accuracy_score(y_test, y_hat) )\n",
    "\n",
    "\n",
    "svc = LinearSVC(C = 0.001)\n",
    "\n",
    "svc.fit(X_train,y_train)\n",
    "y_hat = svc.predict(X_test)\n",
    "\n",
    "print(confusion_matrix(y_test, y_hat))\n",
    "print(accuracy_score(y_test, y_hat) )\n"
   ]
  },
  {
   "cell_type": "code",
   "execution_count": 61,
   "metadata": {
    "collapsed": false
   },
   "outputs": [
    {
     "data": {
      "text/plain": [
       "        Unnamed: 0       balance        income      default2      student2\n",
       "count  10000.00000  10000.000000  10000.000000  10000.000000  10000.000000\n",
       "mean    5000.50000    835.374886  33516.981876      0.033300      0.294400\n",
       "std     2886.89568    483.714985  13336.639563      0.179428      0.455795\n",
       "min        1.00000      0.000000    771.967729      0.000000      0.000000\n",
       "25%     2500.75000    481.731105  21340.462905      0.000000      0.000000\n",
       "50%     5000.50000    823.636973  34552.644800      0.000000      0.000000\n",
       "75%     7500.25000   1166.308387  43807.729275      0.000000      1.000000\n",
       "max    10000.00000   2654.322576  73554.233500      1.000000      1.000000"
      ]
     },
     "execution_count": 61,
     "metadata": {},
     "output_type": "execute_result"
    }
   ],
   "source": [
    "df.describe()"
   ]
  },
  {
   "cell_type": "code",
   "execution_count": 79,
   "metadata": {
    "collapsed": false
   },
   "outputs": [
    {
     "data": {
      "text/plain": [
       "array([[4, 2],\n",
       "       [1, 3]])"
      ]
     },
     "execution_count": 79,
     "metadata": {},
     "output_type": "execute_result"
    }
   ],
   "source": [
    "from sklearn.metrics import confusion_matrix\n",
    "y_true = [0,0,0,0,0,1,1,1,1,1]\n",
    "y_pred = [0,0,0,1,1,0,1,1,1,1]\n",
    "confusion_matrix(y_true, y_pred)"
   ]
  },
  {
   "cell_type": "code",
   "execution_count": null,
   "metadata": {
    "collapsed": true
   },
   "outputs": [],
   "source": []
  }
 ],
 "metadata": {
  "kernelspec": {
   "display_name": "Python 3",
   "language": "python",
   "name": "python3"
  },
  "language_info": {
   "codemirror_mode": {
    "name": "ipython",
    "version": 3
   },
   "file_extension": ".py",
   "mimetype": "text/x-python",
   "name": "python",
   "nbconvert_exporter": "python",
   "pygments_lexer": "ipython3",
   "version": "3.4.4"
  }
 },
 "nbformat": 4,
 "nbformat_minor": 0
}
