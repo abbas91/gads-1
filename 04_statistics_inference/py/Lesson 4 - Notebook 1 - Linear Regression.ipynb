{
 "cells": [
  {
   "cell_type": "code",
   "execution_count": 1,
   "metadata": {
    "collapsed": true
   },
   "outputs": [],
   "source": [
    "import numpy as np\n",
    "import pandas as pd\n",
    "import matplotlib.pyplot as plt\n",
    "%matplotlib inline\n",
    "\n",
    "# Disable warnings\n",
    "import warnings\n",
    "warnings.filterwarnings('ignore')"
   ]
  },
  {
   "cell_type": "code",
   "execution_count": 100,
   "metadata": {
    "collapsed": false
   },
   "outputs": [
    {
     "name": "stdout",
     "output_type": "stream",
     "text": [
      "(400, 4)\n",
      "\n",
      "Index(['admit', 'gre', 'gpa', 'prestige'], dtype='object')\n",
      "\n",
      "            admit         gre        gpa    prestige\n",
      "count  400.000000  398.000000  398.00000  399.000000\n",
      "mean     0.317500  588.040201    3.39093    2.486216\n",
      "std      0.466087  115.628513    0.38063    0.945333\n",
      "min      0.000000  220.000000    2.26000    1.000000\n",
      "25%      0.000000  520.000000    3.13000    2.000000\n",
      "50%      0.000000  580.000000    3.39500    2.000000\n",
      "75%      1.000000  660.000000    3.67000    3.000000\n",
      "max      1.000000  800.000000    4.00000    4.000000\n"
     ]
    }
   ],
   "source": [
    "# Read admission data \n",
    "df = pd.read_csv('../data/admissions.csv')\n",
    "print(df.shape)\n",
    "print()\n",
    "print(df.columns)\n",
    "print()\n",
    "print(df.describe())\n",
    "\n"
   ]
  },
  {
   "cell_type": "markdown",
   "metadata": {},
   "source": [
    "![admissions dictionary](../img/admissions-dictionary.png)"
   ]
  },
  {
   "cell_type": "markdown",
   "metadata": {},
   "source": [
    "# Correlation matrix"
   ]
  },
  {
   "cell_type": "code",
   "execution_count": 101,
   "metadata": {
    "collapsed": false
   },
   "outputs": [
    {
     "data": {
      "text/html": [
       "<div>\n",
       "<table border=\"1\" class=\"dataframe\">\n",
       "  <thead>\n",
       "    <tr style=\"text-align: right;\">\n",
       "      <th></th>\n",
       "      <th>admit</th>\n",
       "      <th>gre</th>\n",
       "      <th>gpa</th>\n",
       "      <th>prestige</th>\n",
       "    </tr>\n",
       "  </thead>\n",
       "  <tbody>\n",
       "    <tr>\n",
       "      <th>admit</th>\n",
       "      <td>1.000000</td>\n",
       "      <td>0.182919</td>\n",
       "      <td>0.175952</td>\n",
       "      <td>-0.241355</td>\n",
       "    </tr>\n",
       "    <tr>\n",
       "      <th>gre</th>\n",
       "      <td>0.182919</td>\n",
       "      <td>1.000000</td>\n",
       "      <td>0.382408</td>\n",
       "      <td>-0.124533</td>\n",
       "    </tr>\n",
       "    <tr>\n",
       "      <th>gpa</th>\n",
       "      <td>0.175952</td>\n",
       "      <td>0.382408</td>\n",
       "      <td>1.000000</td>\n",
       "      <td>-0.059031</td>\n",
       "    </tr>\n",
       "    <tr>\n",
       "      <th>prestige</th>\n",
       "      <td>-0.241355</td>\n",
       "      <td>-0.124533</td>\n",
       "      <td>-0.059031</td>\n",
       "      <td>1.000000</td>\n",
       "    </tr>\n",
       "  </tbody>\n",
       "</table>\n",
       "</div>"
      ],
      "text/plain": [
       "             admit       gre       gpa  prestige\n",
       "admit     1.000000  0.182919  0.175952 -0.241355\n",
       "gre       0.182919  1.000000  0.382408 -0.124533\n",
       "gpa       0.175952  0.382408  1.000000 -0.059031\n",
       "prestige -0.241355 -0.124533 -0.059031  1.000000"
      ]
     },
     "execution_count": 101,
     "metadata": {},
     "output_type": "execute_result"
    }
   ],
   "source": [
    "df.corr()"
   ]
  },
  {
   "cell_type": "markdown",
   "metadata": {},
   "source": [
    "# Correlation between GRE and GPA"
   ]
  },
  {
   "cell_type": "code",
   "execution_count": 102,
   "metadata": {
    "collapsed": false
   },
   "outputs": [
    {
     "data": {
      "image/png": "[encoded data removed]",
      "text/plain": [
       "<matplotlib.figure.Figure at 0x1146e6550>"
      ]
     },
     "metadata": {},
     "output_type": "display_data"
    }
   ],
   "source": [
    "fig, ax = plt.subplots(figsize=(6,6))\n",
    "\n",
    "plt.plot(df.gre, df.gpa, '.')\n",
    "plt.xlabel('GRE')\n",
    "plt.ylabel('GPA')\n",
    "plt.grid()"
   ]
  },
  {
   "cell_type": "markdown",
   "metadata": {},
   "source": [
    "# Linear regression model\n"
   ]
  },
  {
   "cell_type": "markdown",
   "metadata": {},
   "source": [
    "first normalize the data\n"
   ]
  },
  {
   "cell_type": "code",
   "execution_count": 103,
   "metadata": {
    "collapsed": false
   },
   "outputs": [
    {
     "name": "stdout",
     "output_type": "stream",
     "text": [
      "            admit         gre         gpa    prestige\n",
      "count  400.000000  398.000000  398.000000  399.000000\n",
      "mean     0.317500    0.634552    0.649960    2.486216\n",
      "std      0.466087    0.199360    0.218753    0.945333\n",
      "min      0.000000    0.000000    0.000000    1.000000\n",
      "25%      0.000000    0.517241    0.500000    2.000000\n",
      "50%      0.000000    0.620690    0.652299    2.000000\n",
      "75%      1.000000    0.758621    0.810345    3.000000\n",
      "max      1.000000    1.000000    1.000000    4.000000\n"
     ]
    }
   ],
   "source": [
    "df.gre = (df.gre-min(df.gre))/(max(df.gre)-min(df.gre))\n",
    "df.gpa = (df.gpa-min(df.gpa))/(max(df.gpa)-min(df.gpa))\n",
    "print(df.describe())"
   ]
  },
  {
   "cell_type": "markdown",
   "metadata": {},
   "source": [
    "### Instantiate the model: \n",
    "\n",
    "> lm = smf.ols(formula='gpa ~ gre', data=df)\n",
    "\n",
    "where **gpa ~ gre** indicates you want **gpa** as a function of **gre**\n",
    "\n",
    "and calculate the coefficients\n",
    "\n",
    "> lm = lm.fit()\n",
    "\n",
    "Which can be written in one line\n",
    "\n",
    "> lm = smf.ols(formula='gpa ~ gre', data=df).fit()\n",
    "\n",
    "\n"
   ]
  },
  {
   "cell_type": "code",
   "execution_count": 104,
   "metadata": {
    "collapsed": false
   },
   "outputs": [
    {
     "name": "stdout",
     "output_type": "stream",
     "text": [
      "                            OLS Regression Results                            \n",
      "==============================================================================\n",
      "Dep. Variable:                    gpa   R-squared:                       0.146\n",
      "Model:                            OLS   Adj. R-squared:                  0.144\n",
      "Method:                 Least Squares   F-statistic:                     67.66\n",
      "Date:                Wed, 29 Jun 2016   Prob (F-statistic):           2.84e-15\n",
      "Time:                        19:00:57   Log-Likelihood:                 72.371\n",
      "No. Observations:                 397   AIC:                            -140.7\n",
      "Df Residuals:                     395   BIC:                            -132.8\n",
      "Df Model:                           1                                         \n",
      "Covariance Type:            nonrobust                                         \n",
      "==============================================================================\n",
      "                 coef    std err          t      P>|t|      [95.0% Conf. Int.]\n",
      "------------------------------------------------------------------------------\n",
      "Intercept      0.3851      0.034     11.376      0.000         0.319     0.452\n",
      "gre            0.4188      0.051      8.225      0.000         0.319     0.519\n",
      "==============================================================================\n",
      "Omnibus:                        6.571   Durbin-Watson:                   1.906\n",
      "Prob(Omnibus):                  0.037   Jarque-Bera (JB):                6.116\n",
      "Skew:                          -0.251   Prob(JB):                       0.0470\n",
      "Kurtosis:                       2.656   Cond. No.                         7.10\n",
      "==============================================================================\n",
      "\n",
      "Warnings:\n",
      "[1] Standard Errors assume that the covariance matrix of the errors is correctly specified.\n",
      "slope: 0.38508147136 \n",
      "intercept: 0.418820006422 \n"
     ]
    }
   ],
   "source": [
    "import statsmodels.formula.api as smf\n",
    "\n",
    "lm = smf.ols(formula='gpa ~ gre', data=df).fit()\n",
    "print(lm.summary())\n",
    "slope = lm.params[0]\n",
    "intercept = lm.params[1]\n",
    "print(\"slope: %s \"% slope)\n",
    "print(\"intercept: %s \"% intercept)"
   ]
  },
  {
   "cell_type": "markdown",
   "metadata": {},
   "source": [
    "# R-squared and Adj. R-squared\n",
    "\n",
    "https://en.wikipedia.org/wiki/Coefficient_of_determination\n",
    "\n",
    "\"Linear regression: $R^2$ is simply the square of the sample correlation coefficient between the outcomes and their predicted values\"\n",
    "\n",
    "The more you add variables => the higher $R^2$ gets!\n",
    "\n",
    "Thus Adj. $R^{2}$. Correction for complexity\n"
   ]
  },
  {
   "cell_type": "code",
   "execution_count": 105,
   "metadata": {
    "collapsed": false
   },
   "outputs": [
    {
     "data": {
      "text/plain": [
       "<matplotlib.text.Text at 0x114615cc0>"
      ]
     },
     "execution_count": 105,
     "metadata": {},
     "output_type": "execute_result"
    },
    {
     "data": {
      "image/png": "[encoded data removed]",
      "text/plain": [
       "<matplotlib.figure.Figure at 0x114d829e8>"
      ]
     },
     "metadata": {},
     "output_type": "display_data"
    }
   ],
   "source": [
    "fig, ax = plt.subplots(figsize=(6,6))\n",
    "ax.scatter(df.gre, df.gpa)\n",
    "ax.plot(df.gre,  slope * df.gre +intercept, color='red')\n",
    "plt.xlabel('GRE')\n",
    "plt.ylabel('GPA')\n"
   ]
  },
  {
   "cell_type": "markdown",
   "metadata": {},
   "source": [
    "# Anscombe's quartet \n",
    "https://en.wikipedia.org/wiki/Anscombe%27s_quartet\n",
    "\n",
    "![Anscombe's quartet ](../img/Anscombe_quartet_3.svg)\n"
   ]
  },
  {
   "cell_type": "markdown",
   "metadata": {},
   "source": [
    "# Multi linear regression\n",
    "Use gre, gpa  to predict admission\n",
    "\n",
    "$$ admit = a * GRE + b * GPA + d $$\n"
   ]
  },
  {
   "cell_type": "code",
   "execution_count": 106,
   "metadata": {
    "collapsed": false
   },
   "outputs": [
    {
     "name": "stdout",
     "output_type": "stream",
     "text": [
      "R-squared 0.0335 Adj. R-squared 0.0310\n",
      "R-squared 0.0457 Adj. R-squared 0.0409\n",
      "R-squared 0.0946 Adj. R-squared 0.0877\n"
     ]
    }
   ],
   "source": [
    "# Regression model\n",
    "lm = smf.ols(formula='admit ~ gre  ', data=df).fit()\n",
    "print(\"R-squared %0.4f Adj. R-squared %0.4f\" % (lm.rsquared, lm.rsquared_adj) )\n",
    "\n",
    "# Result\n",
    "# print(lm.summary())\n",
    "\n",
    "# Regression model\n",
    "lm = smf.ols(formula='admit ~ gre + gpa ', data=df).fit()\n",
    "print(\"R-squared %0.4f Adj. R-squared %0.4f\" % (lm.rsquared, lm.rsquared_adj) )\n",
    "# Result\n",
    "# print(lm.summary())\n",
    "\n",
    "# Regression model\n",
    "lm = smf.ols(formula='admit ~ gre + gpa + prestige ', data=df).fit()\n",
    "print(\"R-squared %0.4f Adj. R-squared %0.4f\" % (lm.rsquared, lm.rsquared_adj) )\n",
    "# Result\n",
    "# print(lm.summary())"
   ]
  },
  {
   "cell_type": "code",
   "execution_count": 107,
   "metadata": {
    "collapsed": false
   },
   "outputs": [
    {
     "data": {
      "text/plain": [
       "Intercept    0.264989\n",
       "gre          0.251882\n",
       "gpa          0.254429\n",
       "prestige    -0.109666\n",
       "dtype: float64"
      ]
     },
     "execution_count": 107,
     "metadata": {},
     "output_type": "execute_result"
    }
   ],
   "source": [
    "lm.params"
   ]
  },
  {
   "cell_type": "markdown",
   "metadata": {},
   "source": [
    "$$\n",
    "    admit = 0.25 * GRE + 0.25 * GPA  - 0.11 * Prestige + 0.26\n",
    "$$"
   ]
  },
  {
   "cell_type": "markdown",
   "metadata": {
    "collapsed": true
   },
   "source": [
    "# Dummy encoding for prestige\n"
   ]
  },
  {
   "cell_type": "code",
   "execution_count": 110,
   "metadata": {
    "collapsed": false
   },
   "outputs": [
    {
     "name": "stdout",
     "output_type": "stream",
     "text": [
      "(399, 4)\n",
      "   admit       gre       gpa  prestige_1  prestige_2  prestige_3  prestige_4\n",
      "0      0  0.275862  0.775862           0           0           1           0\n",
      "1      1  0.758621  0.810345           0           0           1           0\n",
      "2      1  1.000000  1.000000           1           0           0           0\n",
      "3      1  0.724138  0.534483           0           0           0           1\n",
      "4      0  0.517241  0.385057           0           0           0           1\n"
     ]
    }
   ],
   "source": [
    "df.prestige.value_counts(dropna=False)\n",
    "df = df.dropna(subset=['prestige'])\n",
    "print(df.shape)\n",
    "\n",
    "pr = pd.get_dummies(df.prestige.astype(np.int), prefix='prestige')\n",
    "\n",
    "# concat the 2 dataframes => new dataframe df_dummies\n",
    "df_dummies = pd.concat((df, pr), axis=1)\n",
    "# drop prestige\n",
    "df_dummies = df_dummies.drop('prestige', axis = 1)\n",
    "print(df_dummies.head())"
   ]
  },
  {
   "cell_type": "code",
   "execution_count": 113,
   "metadata": {
    "collapsed": false
   },
   "outputs": [
    {
     "data": {
      "text/html": [
       "<table class=\"simpletable\">\n",
       "<caption>OLS Regression Results</caption>\n",
       "<tr>\n",
       "  <th>Dep. Variable:</th>          <td>admit</td>      <th>  R-squared:         </th> <td>   0.099</td>\n",
       "</tr>\n",
       "<tr>\n",
       "  <th>Model:</th>                   <td>OLS</td>       <th>  Adj. R-squared:    </th> <td>   0.087</td>\n",
       "</tr>\n",
       "<tr>\n",
       "  <th>Method:</th>             <td>Least Squares</td>  <th>  F-statistic:       </th> <td>   8.594</td>\n",
       "</tr>\n",
       "<tr>\n",
       "  <th>Date:</th>             <td>Wed, 29 Jun 2016</td> <th>  Prob (F-statistic):</th> <td>9.71e-08</td>\n",
       "</tr>\n",
       "<tr>\n",
       "  <th>Time:</th>                 <td>19:02:25</td>     <th>  Log-Likelihood:    </th> <td> -239.02</td>\n",
       "</tr>\n",
       "<tr>\n",
       "  <th>No. Observations:</th>      <td>   397</td>      <th>  AIC:               </th> <td>   490.0</td>\n",
       "</tr>\n",
       "<tr>\n",
       "  <th>Df Residuals:</th>          <td>   391</td>      <th>  BIC:               </th> <td>   513.9</td>\n",
       "</tr>\n",
       "<tr>\n",
       "  <th>Df Model:</th>              <td>     5</td>      <th>                     </th>     <td> </td>   \n",
       "</tr>\n",
       "<tr>\n",
       "  <th>Covariance Type:</th>      <td>nonrobust</td>    <th>                     </th>     <td> </td>   \n",
       "</tr>\n",
       "</table>\n",
       "<table class=\"simpletable\">\n",
       "<tr>\n",
       "       <td></td>         <th>coef</th>     <th>std err</th>      <th>t</th>      <th>P>|t|</th> <th>[95.0% Conf. Int.]</th> \n",
       "</tr>\n",
       "<tr>\n",
       "  <th>Intercept</th>  <td>    0.0010</td> <td>    0.070</td> <td>    0.014</td> <td> 0.989</td> <td>   -0.136     0.138</td>\n",
       "</tr>\n",
       "<tr>\n",
       "  <th>gre</th>        <td>    0.2445</td> <td>    0.122</td> <td>    1.997</td> <td> 0.047</td> <td>    0.004     0.485</td>\n",
       "</tr>\n",
       "<tr>\n",
       "  <th>gpa</th>        <td>    0.2624</td> <td>    0.112</td> <td>    2.349</td> <td> 0.019</td> <td>    0.043     0.482</td>\n",
       "</tr>\n",
       "<tr>\n",
       "  <th>prestige_1</th> <td>    0.1949</td> <td>    0.053</td> <td>    3.692</td> <td> 0.000</td> <td>    0.091     0.299</td>\n",
       "</tr>\n",
       "<tr>\n",
       "  <th>prestige_2</th> <td>    0.0313</td> <td>    0.038</td> <td>    0.818</td> <td> 0.414</td> <td>   -0.044     0.107</td>\n",
       "</tr>\n",
       "<tr>\n",
       "  <th>prestige_3</th> <td>   -0.0961</td> <td>    0.040</td> <td>   -2.374</td> <td> 0.018</td> <td>   -0.176    -0.017</td>\n",
       "</tr>\n",
       "<tr>\n",
       "  <th>prestige_4</th> <td>   -0.1291</td> <td>    0.048</td> <td>   -2.700</td> <td> 0.007</td> <td>   -0.223    -0.035</td>\n",
       "</tr>\n",
       "</table>\n",
       "<table class=\"simpletable\">\n",
       "<tr>\n",
       "  <th>Omnibus:</th>       <td>152.312</td> <th>  Durbin-Watson:     </th> <td>   1.946</td>\n",
       "</tr>\n",
       "<tr>\n",
       "  <th>Prob(Omnibus):</th> <td> 0.000</td>  <th>  Jarque-Bera (JB):  </th> <td>  50.314</td>\n",
       "</tr>\n",
       "<tr>\n",
       "  <th>Skew:</th>          <td> 0.678</td>  <th>  Prob(JB):          </th> <td>1.19e-11</td>\n",
       "</tr>\n",
       "<tr>\n",
       "  <th>Kurtosis:</th>      <td> 1.904</td>  <th>  Cond. No.          </th> <td>1.15e+16</td>\n",
       "</tr>\n",
       "</table>"
      ],
      "text/plain": [
       "<class 'statsmodels.iolib.summary.Summary'>\n",
       "\"\"\"\n",
       "                            OLS Regression Results                            \n",
       "==============================================================================\n",
       "Dep. Variable:                  admit   R-squared:                       0.099\n",
       "Model:                            OLS   Adj. R-squared:                  0.087\n",
       "Method:                 Least Squares   F-statistic:                     8.594\n",
       "Date:                Wed, 29 Jun 2016   Prob (F-statistic):           9.71e-08\n",
       "Time:                        19:02:25   Log-Likelihood:                -239.02\n",
       "No. Observations:                 397   AIC:                             490.0\n",
       "Df Residuals:                     391   BIC:                             513.9\n",
       "Df Model:                           5                                         \n",
       "Covariance Type:            nonrobust                                         \n",
       "==============================================================================\n",
       "                 coef    std err          t      P>|t|      [95.0% Conf. Int.]\n",
       "------------------------------------------------------------------------------\n",
       "Intercept      0.0010      0.070      0.014      0.989        -0.136     0.138\n",
       "gre            0.2445      0.122      1.997      0.047         0.004     0.485\n",
       "gpa            0.2624      0.112      2.349      0.019         0.043     0.482\n",
       "prestige_1     0.1949      0.053      3.692      0.000         0.091     0.299\n",
       "prestige_2     0.0313      0.038      0.818      0.414        -0.044     0.107\n",
       "prestige_3    -0.0961      0.040     -2.374      0.018        -0.176    -0.017\n",
       "prestige_4    -0.1291      0.048     -2.700      0.007        -0.223    -0.035\n",
       "==============================================================================\n",
       "Omnibus:                      152.312   Durbin-Watson:                   1.946\n",
       "Prob(Omnibus):                  0.000   Jarque-Bera (JB):               50.314\n",
       "Skew:                           0.678   Prob(JB):                     1.19e-11\n",
       "Kurtosis:                       1.904   Cond. No.                     1.15e+16\n",
       "==============================================================================\n",
       "\n",
       "Warnings:\n",
       "[1] Standard Errors assume that the covariance matrix of the errors is correctly specified.\n",
       "[2] The smallest eigenvalue is 6.37e-30. This might indicate that there are\n",
       "strong multicollinearity problems or that the design matrix is singular.\n",
       "\"\"\""
      ]
     },
     "execution_count": 113,
     "metadata": {},
     "output_type": "execute_result"
    }
   ],
   "source": [
    "# regression\n",
    "lm = smf.ols(formula='admit ~ gre + gpa + prestige_1 + prestige_2 + prestige_3 + prestige_4 ', data=df_dummies).fit()\n",
    "lm.summary()"
   ]
  },
  {
   "cell_type": "code",
   "execution_count": null,
   "metadata": {
    "collapsed": true
   },
   "outputs": [],
   "source": []
  }
 ],
 "metadata": {
  "kernelspec": {
   "display_name": "Python 3",
   "language": "python",
   "name": "python3"
  },
  "language_info": {
   "codemirror_mode": {
    "name": "ipython",
    "version": 3
   },
   "file_extension": ".py",
   "mimetype": "text/x-python",
   "name": "python",
   "nbconvert_exporter": "python",
   "pygments_lexer": "ipython3",
   "version": "3.4.4"
  }
 },
 "nbformat": 4,
 "nbformat_minor": 0
}
