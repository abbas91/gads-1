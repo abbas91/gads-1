{
 "cells": [
  {
   "cell_type": "code",
   "execution_count": 14,
   "metadata": {
    "collapsed": true
   },
   "outputs": [],
   "source": [
    "import numpy as np\n",
    "import pandas as pd\n",
    "import matplotlib.pyplot as plt\n",
    "%matplotlib inline\n",
    "\n",
    "# Disable warnings\n",
    "import warnings\n",
    "warnings.filterwarnings('ignore')\n",
    "import statsmodels.formula.api as smf\n",
    "\n"
   ]
  },
  {
   "cell_type": "code",
   "execution_count": 26,
   "metadata": {
    "collapsed": false
   },
   "outputs": [
    {
     "data": {
      "text/html": [
       "<div>\n",
       "<table border=\"1\" class=\"dataframe\">\n",
       "  <thead>\n",
       "    <tr style=\"text-align: right;\">\n",
       "      <th></th>\n",
       "      <th>col_w</th>\n",
       "      <th>col_x</th>\n",
       "      <th>col_y</th>\n",
       "    </tr>\n",
       "  </thead>\n",
       "  <tbody>\n",
       "    <tr>\n",
       "      <th>0</th>\n",
       "      <td>0.444991</td>\n",
       "      <td>0.106884</td>\n",
       "      <td>-1.221688</td>\n",
       "    </tr>\n",
       "    <tr>\n",
       "      <th>1</th>\n",
       "      <td>4.417130</td>\n",
       "      <td>2.205815</td>\n",
       "      <td>2.371884</td>\n",
       "    </tr>\n",
       "    <tr>\n",
       "      <th>2</th>\n",
       "      <td>2.622003</td>\n",
       "      <td>0.956563</td>\n",
       "      <td>0.983067</td>\n",
       "    </tr>\n",
       "    <tr>\n",
       "      <th>3</th>\n",
       "      <td>1.117312</td>\n",
       "      <td>0.068411</td>\n",
       "      <td>-0.324430</td>\n",
       "    </tr>\n",
       "    <tr>\n",
       "      <th>4</th>\n",
       "      <td>2.682212</td>\n",
       "      <td>1.068514</td>\n",
       "      <td>1.850425</td>\n",
       "    </tr>\n",
       "  </tbody>\n",
       "</table>\n",
       "</div>"
      ],
      "text/plain": [
       "      col_w     col_x     col_y\n",
       "0  0.444991  0.106884 -1.221688\n",
       "1  4.417130  2.205815  2.371884\n",
       "2  2.622003  0.956563  0.983067\n",
       "3  1.117312  0.068411 -0.324430\n",
       "4  2.682212  1.068514  1.850425"
      ]
     },
     "execution_count": 26,
     "metadata": {},
     "output_type": "execute_result"
    }
   ],
   "source": [
    "# set seed \n",
    "np.random.seed(88)\n",
    "\n",
    "# create variables\n",
    "x = np.random.normal(0,1,500)\n",
    "y = 0.7* x + np.random.normal(0,1,500)\n",
    "w = 1.2 * x + 0.6 * y + np.random.normal(0,1,500)\n",
    "# create dataframe \n",
    "df = pd.DataFrame( {'col_x' : x, 'col_y': y, 'col_w': w} )\n",
    "df.head()"
   ]
  },
  {
   "cell_type": "code",
   "execution_count": 27,
   "metadata": {
    "collapsed": true
   },
   "outputs": [],
   "source": [
    "lm = smf.ols(formula='col_y ~ col_x', data=df).fit()\n",
    "lm2 = smf.ols(formula='col_y ~ col_x + col_w', data=df).fit()"
   ]
  },
  {
   "cell_type": "code",
   "execution_count": 20,
   "metadata": {
    "collapsed": false
   },
   "outputs": [
    {
     "name": "stdout",
     "output_type": "stream",
     "text": [
      "                            OLS Regression Results                            \n",
      "==============================================================================\n",
      "Dep. Variable:                      y   R-squared:                       0.316\n",
      "Model:                            OLS   Adj. R-squared:                  0.315\n",
      "Method:                 Least Squares   F-statistic:                     230.2\n",
      "Date:                Thu, 30 Jun 2016   Prob (F-statistic):           5.07e-43\n",
      "Time:                        19:47:24   Log-Likelihood:                -714.78\n",
      "No. Observations:                 500   AIC:                             1434.\n",
      "Df Residuals:                     498   BIC:                             1442.\n",
      "Df Model:                           1                                         \n",
      "Covariance Type:            nonrobust                                         \n",
      "==============================================================================\n",
      "                 coef    std err          t      P>|t|      [95.0% Conf. Int.]\n",
      "------------------------------------------------------------------------------\n",
      "Intercept      0.0263      0.045      0.581      0.562        -0.063     0.115\n",
      "x              0.7131      0.047     15.174      0.000         0.621     0.805\n",
      "==============================================================================\n",
      "Omnibus:                        0.257   Durbin-Watson:                   2.114\n",
      "Prob(Omnibus):                  0.879   Jarque-Bera (JB):                0.134\n",
      "Skew:                          -0.020   Prob(JB):                        0.935\n",
      "Kurtosis:                       3.070   Cond. No.                         1.05\n",
      "==============================================================================\n",
      "\n",
      "Warnings:\n",
      "[1] Standard Errors assume that the covariance matrix of the errors is correctly specified.\n",
      "                            OLS Regression Results                            \n",
      "==============================================================================\n",
      "Dep. Variable:                      y   R-squared:                       0.466\n",
      "Model:                            OLS   Adj. R-squared:                  0.464\n",
      "Method:                 Least Squares   F-statistic:                     216.8\n",
      "Date:                Thu, 30 Jun 2016   Prob (F-statistic):           2.07e-68\n",
      "Time:                        19:47:24   Log-Likelihood:                -653.00\n",
      "No. Observations:                 500   AIC:                             1312.\n",
      "Df Residuals:                     497   BIC:                             1325.\n",
      "Df Model:                           2                                         \n",
      "Covariance Type:            nonrobust                                         \n",
      "==============================================================================\n",
      "                 coef    std err          t      P>|t|      [95.0% Conf. Int.]\n",
      "------------------------------------------------------------------------------\n",
      "Intercept      0.0497      0.040      1.237      0.217        -0.029     0.129\n",
      "x              0.0586      0.069      0.845      0.399        -0.078     0.195\n",
      "w              0.4101      0.035     11.804      0.000         0.342     0.478\n",
      "==============================================================================\n",
      "Omnibus:                        0.584   Durbin-Watson:                   2.038\n",
      "Prob(Omnibus):                  0.747   Jarque-Bera (JB):                0.684\n",
      "Skew:                           0.016   Prob(JB):                        0.710\n",
      "Kurtosis:                       2.822   Cond. No.                         3.91\n",
      "==============================================================================\n",
      "\n",
      "Warnings:\n",
      "[1] Standard Errors assume that the covariance matrix of the errors is correctly specified.\n"
     ]
    }
   ],
   "source": [
    "print(lm.summary())\n",
    "print(lm2.summary())"
   ]
  },
  {
   "cell_type": "code",
   "execution_count": 28,
   "metadata": {
    "collapsed": false
   },
   "outputs": [
    {
     "data": {
      "text/plain": [
       "1.6666666666666667"
      ]
     },
     "execution_count": 28,
     "metadata": {},
     "output_type": "execute_result"
    }
   ],
   "source": [
    "1/0.6"
   ]
  },
  {
   "cell_type": "code",
   "execution_count": null,
   "metadata": {
    "collapsed": true
   },
   "outputs": [],
   "source": []
  }
 ],
 "metadata": {
  "kernelspec": {
   "display_name": "Python 3",
   "language": "python",
   "name": "python3"
  },
  "language_info": {
   "codemirror_mode": {
    "name": "ipython",
    "version": 3
   },
   "file_extension": ".py",
   "mimetype": "text/x-python",
   "name": "python",
   "nbconvert_exporter": "python",
   "pygments_lexer": "ipython3",
   "version": "3.4.4"
  }
 },
 "nbformat": 4,
 "nbformat_minor": 0
}
