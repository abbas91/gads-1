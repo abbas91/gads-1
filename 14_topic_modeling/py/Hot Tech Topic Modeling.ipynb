{
 "cells": [
  {
   "cell_type": "markdown",
   "metadata": {},
   "source": [
    "# Topic Modeling \n",
    "\n",
    "What are the most recent tech innovations and subjects people write about on the web?\n",
    "\n",
    "We will build a dataset from rss feeds of O'Reilly radar, ArsTechnica and IEEE Spectrum websites and with topic modeling find the main topics that these sites talk about.\n",
    "\n",
    "\n"
   ]
  },
  {
   "cell_type": "markdown",
   "metadata": {},
   "source": [
    "# 1. Create or load the dataset\n",
    "\n",
    "Run the code below. This will create a list of 995 documents.\n",
    "**Note**: You can edit the list of rss feeds below.\n",
    "\n",
    "First install feedparser with\n",
    "\n",
    "        pip install feedparser\n",
    "        \n",
    "You can also load the data with pickle\n",
    "\n",
    "        import pickle\n",
    "        file = open(\"../data/techno_feed.txt\",'rb')\n",
    "        docs = pickle.load(file)\n",
    "\n",
    "\n",
    "# 2. Parse and clean\n",
    "\n",
    "Remove \n",
    "* html tags with Beautifulsoup\n",
    "* All ponctuation (watch out for weird characters like \\xa0)\n",
    "* Stopwords with NLTK\n",
    "\n",
    "And tokenize with NLTK\n",
    "\n",
    "# 3. TfIdf and LDA\n",
    "\n",
    "With Gensim\n",
    "\n",
    "* Create a tf-Idf representation of the documents\n",
    "* Apply an LDA model to the corpus. \n",
    "    * try different number of topics\n",
    "    \n",
    "* Use LDAVis to visualize your topics\n",
    "\n",
    "\n"
   ]
  },
  {
   "cell_type": "code",
   "execution_count": 1,
   "metadata": {
    "collapsed": false
   },
   "outputs": [
    {
     "name": "stdout",
     "output_type": "stream",
     "text": [
      "75 entries for http://spectrum.ieee.org/rss/blog/energywise/fulltext\n",
      "75 entries for http://spectrum.ieee.org/rss/blog/cars-that-think/fulltext\n",
      "75 entries for http://spectrum.ieee.org/rss/blog/the-human-os/fulltext\n",
      "40 entries for http://spectrum.ieee.org/rss/blog/riskfactor/fulltext\n",
      "75 entries for http://spectrum.ieee.org/rss/blog/nanoclast/fulltext\n",
      "75 entries for http://spectrum.ieee.org/rss/blog/tech-talk/fulltext\n",
      "75 entries for http://spectrum.ieee.org/rss/blog/view-from-the-valley/fulltext\n",
      "75 entries for http://spectrum.ieee.org/rss/aerospace/fulltext\n",
      "75 entries for http://spectrum.ieee.org/rss/at-work/fulltext\n",
      "75 entries for http://spectrum.ieee.org/rss/blog/automaton/fulltext\n",
      "60 entries for http://strata.oreilly.com/feed\n",
      "20 entries for http://feeds.arstechnica.com/arstechnica/technology-lab\n",
      "20 entries for http://feeds.arstechnica.com/arstechnica/gadgets\n",
      "20 entries for http://feeds.arstechnica.com/arstechnica/business\n",
      "20 entries for http://feeds.arstechnica.com/arstechnica/security\n",
      "20 entries for http://feeds.arstechnica.com/arstechnica/tech-policy\n",
      "20 entries for http://feeds.arstechnica.com/arstechnica/apple\n",
      "20 entries for http://feeds.arstechnica.com/arstechnica/gaming\n",
      "20 entries for http://feeds.arstechnica.com/arstechnica/science\n",
      "20 entries for http://feeds.arstechnica.com/arstechnica/multiverse\n",
      "20 entries for http://feeds.arstechnica.com/arstechnica/cars\n",
      "20 entries for http://feeds.arstechnica.com/arstechnica/staff-blogs\n"
     ]
    }
   ],
   "source": [
    "# Code to create the documents\n",
    "\n",
    "import feedparser\n",
    "# http://spectrum.ieee.org/static/rss\n",
    "\n",
    "feeds = [ 'http://spectrum.ieee.org/rss/blog/energywise/fulltext',\n",
    "'http://spectrum.ieee.org/rss/blog/cars-that-think/fulltext',\n",
    "'http://spectrum.ieee.org/rss/blog/the-human-os/fulltext',\n",
    "'http://spectrum.ieee.org/rss/blog/riskfactor/fulltext',\n",
    "'http://spectrum.ieee.org/rss/blog/nanoclast/fulltext',\n",
    "'http://spectrum.ieee.org/rss/blog/tech-talk/fulltext',\n",
    "'http://spectrum.ieee.org/rss/blog/view-from-the-valley/fulltext',\n",
    "'http://spectrum.ieee.org/rss/aerospace/fulltext',\n",
    "'http://spectrum.ieee.org/rss/at-work/fulltext',\n",
    "'http://spectrum.ieee.org/rss/blog/automaton/fulltext',\n",
    "'http://strata.oreilly.com/feed',\n",
    "'http://feeds.arstechnica.com/arstechnica/technology-lab',\n",
    "'http://feeds.arstechnica.com/arstechnica/gadgets',\n",
    "'http://feeds.arstechnica.com/arstechnica/business',\n",
    "'http://feeds.arstechnica.com/arstechnica/security',\n",
    "'http://feeds.arstechnica.com/arstechnica/tech-policy',\n",
    "'http://feeds.arstechnica.com/arstechnica/apple',\n",
    "'http://feeds.arstechnica.com/arstechnica/gaming',\n",
    "'http://feeds.arstechnica.com/arstechnica/science',\n",
    "'http://feeds.arstechnica.com/arstechnica/multiverse',\n",
    "'http://feeds.arstechnica.com/arstechnica/cars',\n",
    "'http://feeds.arstechnica.com/arstechnica/staff-blogs',\n",
    "]\n",
    "\n",
    "documents = []\n",
    "\n",
    "for rss in feeds:\n",
    "    llog = feedparser.parse(rss)\n",
    "    print(\"%d entries for %s\" % (len(llog.entries), rss) )\n",
    "    for entry in llog.entries:\n",
    "        content = entry.content[0].value\n",
    "        documents.append(content)\n",
    "\n"
   ]
  },
  {
   "cell_type": "code",
   "execution_count": null,
   "metadata": {
    "collapsed": true
   },
   "outputs": [],
   "source": []
  }
 ],
 "metadata": {
  "kernelspec": {
   "display_name": "Python 3",
   "language": "python",
   "name": "python3"
  },
  "language_info": {
   "codemirror_mode": {
    "name": "ipython",
    "version": 3
   },
   "file_extension": ".py",
   "mimetype": "text/x-python",
   "name": "python",
   "nbconvert_exporter": "python",
   "pygments_lexer": "ipython3",
   "version": "3.5.2"
  }
 },
 "nbformat": 4,
 "nbformat_minor": 0
}
