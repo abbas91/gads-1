{
 "cells": [
  {
   "cell_type": "code",
   "execution_count": 22,
   "metadata": {
    "collapsed": false
   },
   "outputs": [
    {
     "data": {
      "text/plain": [
       "Index(['AtBat', 'Hits', 'HmRun', 'Runs', 'RBI', 'Walks', 'Years', 'CAtBat',\n",
       "       'CHits', 'CHmRun', 'CRuns', 'CRBI', 'CWalks', 'League', 'Division',\n",
       "       'PutOuts', 'Assists', 'Errors', 'Salary', 'NewLeague'],\n",
       "      dtype='object')"
      ]
     },
     "execution_count": 22,
     "metadata": {},
     "output_type": "execute_result"
    }
   ],
   "source": [
    "import pandas as pd\n",
    "import numpy as np\n",
    "import matplotlib.pyplot as plt\n",
    "# import seaborn as sns\n",
    "\n",
    "from sklearn.cross_validation import train_test_split, cross_val_score\n",
    "from sklearn.externals.six import StringIO\n",
    "from sklearn.tree import DecisionTreeRegressor, DecisionTreeClassifier, export_graphviz\n",
    "from sklearn.ensemble import BaggingClassifier, RandomForestClassifier, BaggingRegressor, RandomForestRegressor, GradientBoostingRegressor\n",
    "from sklearn.metrics import confusion_matrix, classification_report, mean_squared_error\n",
    "from sklearn import ensemble\n",
    "from sklearn import datasets\n",
    "from sklearn.utils import shuffle\n",
    "from sklearn.metrics import mean_squared_error\n",
    "\n",
    "%matplotlib inline\n",
    "import sklearn.datasets\n",
    "from sklearn.datasets import load_iris\n",
    "from sklearn import tree\n",
    "\n",
    "df = pd.read_csv('../../datasets/Hitters.csv', index_col = False)\n",
    "\n",
    "df['League']        = df.League.factorize()[0]\n",
    "df['Division']      = df.Division.factorize()[0]\n",
    "df['NewLeague']     = df.NewLeague.factorize()[0]\n",
    "\n",
    "df.dropna(subset=['Salary'], inplace = True)\n",
    "df.drop(['Player'], axis = 1, inplace = True)\n",
    "\n",
    "\n",
    "X = df.drop(['Salary'], axis = 1)\n",
    "y = df.Salary\n",
    "\n",
    "df.columns"
   ]
  },
  {
   "cell_type": "markdown",
   "metadata": {},
   "source": [
    "# Preprocess\n",
    "\n",
    "* Split test train\n",
    "        X_train, X_test, y_train, y_test = train_test_split(X, y, train_size=0.8, random_state=88)\n"
   ]
  },
  {
   "cell_type": "code",
   "execution_count": 32,
   "metadata": {
    "collapsed": false
   },
   "outputs": [
    {
     "name": "stderr",
     "output_type": "stream",
     "text": [
      "/Users/aperrier/anaconda/envs/py35/lib/python3.5/site-packages/sklearn/preprocessing/data.py:583: DeprecationWarning: Passing 1d arrays as data is deprecated in 0.17 and will raise ValueError in 0.19. Reshape your data either using X.reshape(-1, 1) if your data has a single feature or X.reshape(1, -1) if it contains a single sample.\n",
      "  warnings.warn(DEPRECATION_MSG_1D, DeprecationWarning)\n",
      "/Users/aperrier/anaconda/envs/py35/lib/python3.5/site-packages/sklearn/preprocessing/data.py:646: DeprecationWarning: Passing 1d arrays as data is deprecated in 0.17 and will raise ValueError in 0.19. Reshape your data either using X.reshape(-1, 1) if your data has a single feature or X.reshape(1, -1) if it contains a single sample.\n",
      "  warnings.warn(DEPRECATION_MSG_1D, DeprecationWarning)\n"
     ]
    }
   ],
   "source": [
    "from sklearn.preprocessing import StandardScaler\n",
    "\n",
    "scal = StandardScaler()\n",
    "X = scal.fit_transform(X)\n",
    "y = scal.fit_transform(y)\n",
    "\n"
   ]
  },
  {
   "cell_type": "code",
   "execution_count": 33,
   "metadata": {
    "collapsed": true
   },
   "outputs": [],
   "source": [
    "X_train, X_test, y_train, y_test = train_test_split(X, y, train_size=0.8, random_state=88)"
   ]
  },
  {
   "cell_type": "markdown",
   "metadata": {},
   "source": [
    "# 1 Basic tree\n"
   ]
  },
  {
   "cell_type": "code",
   "execution_count": 36,
   "metadata": {
    "collapsed": false
   },
   "outputs": [
    {
     "name": "stdout",
     "output_type": "stream",
     "text": [
      "MSE: 0.4518\n",
      "Default Decision Tree scores: -0.73 (+/- 0.33) \n"
     ]
    }
   ],
   "source": [
    "# ----------------------------------------------------------------------------\n",
    "#  Basic Decision tree - Baseline\n",
    "# ----------------------------------------------------------------------------\n",
    "\n",
    "np.random.seed(88)\n",
    "clf = DecisionTreeRegressor()\n",
    "clf.fit(X_train, y_train)\n",
    "\n",
    "mse = mean_squared_error(y_test, clf.predict(X_test))\n",
    "print(\"MSE: %.4f\" % mse)\n",
    "\n",
    "\n",
    "scores = cross_val_score(clf, X, y, cv=10, scoring='mean_squared_error')\n",
    "print(\"Default Decision Tree scores: %0.2f (+/- %0.2f) \"% (np.mean(scores),np.std(scores) ))\n"
   ]
  },
  {
   "cell_type": "code",
   "execution_count": null,
   "metadata": {
    "collapsed": false
   },
   "outputs": [],
   "source": []
  },
  {
   "cell_type": "markdown",
   "metadata": {},
   "source": [
    "# Limit the tree\n",
    "\n",
    "clf = DecisionTreeRegressor(max_depth = 3, min_samples_split = 10)\n",
    "\n",
    "What MSE do you get?"
   ]
  },
  {
   "cell_type": "code",
   "execution_count": 37,
   "metadata": {
    "collapsed": false
   },
   "outputs": [
    {
     "name": "stdout",
     "output_type": "stream",
     "text": [
      "MSE: 0.2753\n",
      "Default Decision Tree scores: -0.54 (+/- 0.27) \n"
     ]
    }
   ],
   "source": [
    "clf = DecisionTreeRegressor(max_depth = 3, min_samples_split = 10)\n",
    "\n",
    "clf.fit(X_train, y_train)\n",
    "\n",
    "mse = mean_squared_error(y_test, clf.predict(X_test))\n",
    "print(\"MSE: %.4f\" % mse)\n",
    "\n",
    "\n",
    "scores = cross_val_score(clf, X, y, cv=10, scoring='mean_squared_error')\n",
    "print(\"Default Decision Tree scores: %0.2f (+/- %0.2f) \"% (np.mean(scores),np.std(scores) ))\n",
    "\n"
   ]
  },
  {
   "cell_type": "markdown",
   "metadata": {},
   "source": [
    "# Bagging \n",
    "\n",
    "On default tree\n",
    "\n",
    "from sklearn.ensemble import BaggingClassifier\n",
    "\n",
    "        clf = DecisionTreeRegressor()\n",
    "        bagging = BaggingRegressor(base_estimator = clf, n_estimators = 20, max_samples=0.5, bootstrap=True, oob_score = True)\n",
    "\n",
    "MSE?\n"
   ]
  },
  {
   "cell_type": "code",
   "execution_count": 39,
   "metadata": {
    "collapsed": false
   },
   "outputs": [
    {
     "name": "stdout",
     "output_type": "stream",
     "text": [
      "MSE: 0.1133\n",
      "Default Decision Tree scores: -0.69 (+/- 0.28) \n"
     ]
    }
   ],
   "source": [
    "clf = DecisionTreeRegressor()\n",
    "bagging = BaggingRegressor(base_estimator = clf, n_estimators = 20, max_samples=0.5, bootstrap=True, oob_score = True)\n",
    "bagging.fit(X,y)\n",
    "\n",
    "mse = mean_squared_error(y_test, bagging.predict(X_test))\n",
    "print(\"MSE: %.4f\" % mse)\n",
    "\n",
    "\n",
    "scores = cross_val_score(clf, X, y, cv=10, scoring='mean_squared_error')\n",
    "print(\"Default Decision Tree scores: %0.2f (+/- %0.2f) \"% (np.mean(scores),np.std(scores) ))\n",
    "\n"
   ]
  },
  {
   "cell_type": "markdown",
   "metadata": {},
   "source": [
    "# Bagging on constrained tree\n",
    "\n",
    "use the DecisionTreeRegressor(max_depth = 3, min_samples_split = 10) as the base regressor"
   ]
  },
  {
   "cell_type": "code",
   "execution_count": 40,
   "metadata": {
    "collapsed": false
   },
   "outputs": [
    {
     "name": "stdout",
     "output_type": "stream",
     "text": [
      "MSE: 0.1592\n",
      "Default Decision Tree scores: -0.54 (+/- 0.27) \n"
     ]
    }
   ],
   "source": [
    "clf = DecisionTreeRegressor(max_depth = 3, min_samples_split = 10)\n",
    "bagging = BaggingRegressor(base_estimator = clf, n_estimators = 20, max_samples=0.5, bootstrap=True, oob_score = True)\n",
    "bagging.fit(X,y)\n",
    "\n",
    "mse = mean_squared_error(y_test, bagging.predict(X_test))\n",
    "print(\"MSE: %.4f\" % mse)\n",
    "\n",
    "\n",
    "scores = cross_val_score(clf, X, y, cv=10, scoring='mean_squared_error')\n",
    "print(\"Default Decision Tree scores: %0.2f (+/- %0.2f) \"% (np.mean(scores),np.std(scores) ))\n"
   ]
  },
  {
   "cell_type": "code",
   "execution_count": null,
   "metadata": {
    "collapsed": true
   },
   "outputs": [],
   "source": []
  }
 ],
 "metadata": {
  "kernelspec": {
   "display_name": "Python 3",
   "language": "python",
   "name": "python3"
  },
  "language_info": {
   "codemirror_mode": {
    "name": "ipython",
    "version": 3
   },
   "file_extension": ".py",
   "mimetype": "text/x-python",
   "name": "python",
   "nbconvert_exporter": "python",
   "pygments_lexer": "ipython3",
   "version": "3.5.2"
  }
 },
 "nbformat": 4,
 "nbformat_minor": 0
}
