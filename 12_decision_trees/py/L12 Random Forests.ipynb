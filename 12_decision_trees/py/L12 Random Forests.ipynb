{
 "cells": [
  {
   "cell_type": "markdown",
   "metadata": {},
   "source": [
    "# Random Forests\n",
    "\n",
    "Classification on the Caravan dataset\n",
    "\n",
    "\n"
   ]
  },
  {
   "cell_type": "code",
   "execution_count": 2,
   "metadata": {
    "collapsed": false
   },
   "outputs": [
    {
     "name": "stdout",
     "output_type": "stream",
     "text": [
      "Using matplotlib backend: MacOSX\n"
     ]
    }
   ],
   "source": [
    "import pandas as pd\n",
    "import numpy as np\n",
    "import matplotlib.pyplot as plt\n",
    "# import seaborn as sns\n",
    "from sklearn.grid_search import GridSearchCV\n",
    "\n",
    "from sklearn.cross_validation import train_test_split, cross_val_score\n",
    "from sklearn.externals.six import StringIO\n",
    "from sklearn.tree import DecisionTreeRegressor, DecisionTreeClassifier, export_graphviz\n",
    "from sklearn.ensemble import BaggingClassifier, RandomForestClassifier, BaggingRegressor, RandomForestRegressor, GradientBoostingRegressor\n",
    "from sklearn.metrics import confusion_matrix, classification_report, mean_squared_error\n",
    "from sklearn import ensemble\n",
    "from sklearn import datasets\n",
    "from sklearn.utils import shuffle\n",
    "from sklearn.metrics import mean_squared_error\n",
    "from sklearn.metrics import roc_curve, auc\n",
    "\n",
    "from sklearn.metrics import accuracy_score, confusion_matrix, classification_report\n",
    "from sklearn.metrics import precision_recall_fscore_support, roc_auc_score\n",
    "\n",
    "%matplotlib\n",
    "import sklearn.datasets\n",
    "from sklearn.datasets import load_iris\n",
    "from sklearn import tree\n",
    "\n",
    "df = pd.read_csv('../../datasets/Caravan.csv', index_col = False)\n",
    "\n"
   ]
  },
  {
   "cell_type": "markdown",
   "metadata": {},
   "source": [
    "# Split train test \n",
    "\n",
    "Keep the class imbalance in both sets\n"
   ]
  },
  {
   "cell_type": "code",
   "execution_count": 5,
   "metadata": {
    "collapsed": false
   },
   "outputs": [
    {
     "name": "stdout",
     "output_type": "stream",
     "text": [
      "No     1095\n",
      "Yes      70\n",
      "Name: Purchase, dtype: int64\n",
      "No     4379\n",
      "Yes     278\n",
      "Name: Purchase, dtype: int64\n"
     ]
    }
   ],
   "source": [
    "np.random.seed(88)\n",
    "df = df.sample(frac=1).reset_index(drop=True)\n",
    "\n",
    "# 70 1st samples for the test set the others for the training set\n",
    "df_test     = df[df.Purchase == 'Yes'][:70]\n",
    "df_train    = df[df.Purchase == 'Yes'][70:]\n",
    "\n",
    "df_test = df_test.append(df[df.Purchase == 'No'][:1095])\n",
    "df_train = df_train.append(df[df.Purchase == 'No'][1095:])\n",
    "\n",
    "# verification\n",
    "print(df_test.Purchase.value_counts())\n",
    "print(df_train.Purchase.value_counts())\n",
    "\n",
    "df_test = df_test.sample(frac=1).reset_index(drop=True)\n",
    "df_train = df_train.sample(frac=1).reset_index(drop=True)\n",
    "\n",
    "y_train = df_train.Purchase.factorize()[0]\n",
    "X_train = df_train.drop(['Purchase'], axis=1)\n",
    "\n",
    "y_test = df_test.Purchase.factorize()[0]\n",
    "X_test = df_test.drop(['Purchase'], axis=1)\n",
    "\n",
    "\n"
   ]
  },
  {
   "cell_type": "markdown",
   "metadata": {},
   "source": [
    "# Random Forest Classifier, \n",
    "\n",
    "       rf = RandomForestClassifier(criterion='gini', bootstrap=False, random_state=88 )\n",
    "\n",
    "    parameters = {\n",
    "        'n_estimators': [200],\n",
    "        'max_depth': [10, None],\n",
    "        'min_samples_split' :[2, 20],\n",
    "        'max_features' : ['auto'],\n",
    "    }\n",
    "\n",
    "* Grid searchCV\n",
    "* Best model, parameter, score\n",
    "* Confusion Matrix\n",
    "* plot the ROC Curve\n",
    "* Feature Importance\n"
   ]
  },
  {
   "cell_type": "code",
   "execution_count": null,
   "metadata": {
    "collapsed": true
   },
   "outputs": [],
   "source": []
  },
  {
   "cell_type": "code",
   "execution_count": null,
   "metadata": {
    "collapsed": true
   },
   "outputs": [],
   "source": []
  },
  {
   "cell_type": "code",
   "execution_count": null,
   "metadata": {
    "collapsed": true
   },
   "outputs": [],
   "source": []
  }
 ],
 "metadata": {
  "kernelspec": {
   "display_name": "Python 3",
   "language": "python",
   "name": "python3"
  },
  "language_info": {
   "codemirror_mode": {
    "name": "ipython",
    "version": 3
   },
   "file_extension": ".py",
   "mimetype": "text/x-python",
   "name": "python",
   "nbconvert_exporter": "python",
   "pygments_lexer": "ipython3",
   "version": "3.5.2"
  }
 },
 "nbformat": 4,
 "nbformat_minor": 0
}
