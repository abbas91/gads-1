{
 "cells": [
  {
   "cell_type": "markdown",
   "metadata": {},
   "source": [
    "# Feature Extraction - Bag of Words\n",
    "\n",
    "This is the paragraph:\n",
    "\n",
    "*Bertrand Piccard and André Borschberg spent more than 10 years and 150 million euros in the research and development of the Solar Impulse solar-powered plane, and they are not ready to stop. During their journey from concept to successful flight, the pair delved deeply into the world of energy-efficient batteries and green technology, becoming experts in both fields. Using this knowledge and experience, Piccard and Borschberg plan to focus on applying what they learned to the broader areas of aviation and travel. “The future is clean. The future is you. The future is now. Let’s take it further,” said Solar Impulse co-founder Piccard following the completion of the groundbreaking flight.*\n",
    "\n",
    "Taken from http://www.digitaltrends.com/cool-tech/solar-impulse-round-world-flight-finished/#ixzz4FoSpSgIC \n",
    "\n",
    "We are going to\n",
    "\n",
    "* Remove Ponctuation and numbers\n",
    "* Lowercase \n",
    "* Remove stopwords\n",
    "* Tokenize the text\n",
    "* Count the words frequencies\n",
    "* Normalize with TF-IDF\n",
    "\n"
   ]
  },
  {
   "cell_type": "code",
   "execution_count": 7,
   "metadata": {
    "collapsed": false
   },
   "outputs": [
    {
     "name": "stdout",
     "output_type": "stream",
     "text": [
      "Bertrand Piccard and André Borschberg spent more than 10 years and 150 million euros in the research and development of the Solar Impulse solar-powered plane, and they are not ready to stop. During their journey from concept to successful flight, the pair delved deeply into the world of energy-efficient batteries and green technology, becoming experts in both fields. Using this knowledge and experience, Piccard and Borschberg plan to focus on applying what they learned to the broader areas of aviation and travel. “The future is clean. The future is you. The future is now. Let’s take it further,” said Solar Impulse co-founder Piccard following the completion of the groundbreaking flight.\n"
     ]
    }
   ],
   "source": [
    "original_text = \"Bertrand Piccard and André Borschberg spent more than 10 years and 150 million euros in the research and development of the Solar Impulse solar-powered plane, and they are not ready to stop. During their journey from concept to successful flight, the pair delved deeply into the world of energy-efficient batteries and green technology, becoming experts in both fields. Using this knowledge and experience, Piccard and Borschberg plan to focus on applying what they learned to the broader areas of aviation and travel. “The future is clean. The future is you. The future is now. Let’s take it further,” said Solar Impulse co-founder Piccard following the completion of the groundbreaking flight.\"\n",
    "print(original_text)"
   ]
  },
  {
   "cell_type": "markdown",
   "metadata": {},
   "source": [
    "# 1. Remove Ponctuation and numbers\n",
    "Equivalent to keeping only letters\n",
    "\n",
    "We'll use a regex library: **re** and **re.sub(pattern, repl, string)**\n"
   ]
  },
  {
   "cell_type": "code",
   "execution_count": 5,
   "metadata": {
    "collapsed": false
   },
   "outputs": [
    {
     "name": "stdout",
     "output_type": "stream",
     "text": [
      "Bertrand Piccard and Andr  Borschberg spent more than    years and     million euros in the research and development of the Solar Impulse solar powered plane  and they are not ready to stop  During their journey from concept to successful flight  the pair delved deeply into the world of energy efficient batteries and green technology  becoming experts in both fields  Using this knowledge and experience  Piccard and Borschberg plan to focus on applying what they learned to the broader areas of aviation and travel   The future is clean  The future is you  The future is now  Let s take it further   said Solar Impulse co founder Piccard following the completion of the groundbreaking flight \n"
     ]
    }
   ],
   "source": [
    "import re\n",
    "\n",
    "text = re.sub(\"[^a-zA-Z]\", \n",
    "        \" \",                   # The pattern to replace it with\n",
    "        text )  # The text to search\n",
    "print(text)"
   ]
  },
  {
   "cell_type": "markdown",
   "metadata": {},
   "source": [
    "# Alternatives\n",
    "\n",
    "The accent is missing!\n",
    "\n",
    "Many alternatives: http://stackoverflow.com/questions/265960/best-way-to-strip-punctuation-from-a-string-in-python\n",
    "\n",
    "* Extend the list of accepted letters with: àèìòùÀÈÌÒÙáéíóúýÁÉÍÓÚÝâêîôûÂÊÎÔÛãñõÃÑÕäëïöüÿÄËÏÖÜŸçÇßØøÅåÆæœ\n",
    "* Use a list of ponctuation signs and remove characters not in the list (string.ponctuation)\n",
    "* ..."
   ]
  },
  {
   "cell_type": "code",
   "execution_count": 16,
   "metadata": {
    "collapsed": false
   },
   "outputs": [
    {
     "name": "stdout",
     "output_type": "stream",
     "text": [
      "Bertrand Piccard and André Borschberg spent more than 10 years and 150 million euros in the research and development of the Solar Impulse solarpowered plane and they are not ready to stop During their journey from concept to successful flight the pair delved deeply into the world of energyefficient batteries and green technology becoming experts in both fields Using this knowledge and experience Piccard and Borschberg plan to focus on applying what they learned to the broader areas of aviation and travel “The future is clean The future is you The future is now Let’s take it further” said Solar Impulse cofounder Piccard following the completion of the groundbreaking flight\n"
     ]
    }
   ],
   "source": [
    "import string\n",
    "exclude = list(string.punctuation)\n",
    "text = ''.join(ch for ch in original_text if ch not in exclude)\n",
    "print(text)"
   ]
  },
  {
   "cell_type": "code",
   "execution_count": 23,
   "metadata": {
    "collapsed": false
   },
   "outputs": [
    {
     "name": "stdout",
     "output_type": "stream",
     "text": [
      "Bertrand Piccard and André Borschberg spent more than  years and  million euros in the research and development of the Solar Impulse solarpowered plane and they are not ready to stop During their journey from concept to successful flight the pair delved deeply into the world of energyefficient batteries and green technology becoming experts in both fields Using this knowledge and experience Piccard and Borschberg plan to focus on applying what they learned to the broader areas of aviation and travel The future is clean The future is you The future is now Lets take it further said Solar Impulse cofounder Piccard following the completion of the groundbreaking flight\n"
     ]
    }
   ],
   "source": [
    "numbers = [str(n) for n in range(10)]\n",
    "exclude = list(string.punctuation + '“’”') + numbers\n",
    "text = ''.join(ch for ch in original_text if ch not in exclude)\n",
    "print(text)\n"
   ]
  },
  {
   "cell_type": "markdown",
   "metadata": {},
   "source": [
    "# Lowercase + Tokenize"
   ]
  },
  {
   "cell_type": "code",
   "execution_count": 25,
   "metadata": {
    "collapsed": false
   },
   "outputs": [
    {
     "name": "stdout",
     "output_type": "stream",
     "text": [
      "['bertrand', 'piccard', 'and', 'andré', 'borschberg', 'spent', 'more', 'than', 'years', 'and', 'million', 'euros', 'in', 'the', 'research', 'and', 'development', 'of', 'the', 'solar', 'impulse', 'solarpowered', 'plane', 'and', 'they', 'are', 'not', 'ready', 'to', 'stop', 'during', 'their', 'journey', 'from', 'concept', 'to', 'successful', 'flight', 'the', 'pair', 'delved', 'deeply', 'into', 'the', 'world', 'of', 'energyefficient', 'batteries', 'and', 'green', 'technology', 'becoming', 'experts', 'in', 'both', 'fields', 'using', 'this', 'knowledge', 'and', 'experience', 'piccard', 'and', 'borschberg', 'plan', 'to', 'focus', 'on', 'applying', 'what', 'they', 'learned', 'to', 'the', 'broader', 'areas', 'of', 'aviation', 'and', 'travel', 'the', 'future', 'is', 'clean', 'the', 'future', 'is', 'you', 'the', 'future', 'is', 'now', 'lets', 'take', 'it', 'further', 'said', 'solar', 'impulse', 'cofounder', 'piccard', 'following', 'the', 'completion', 'of', 'the', 'groundbreaking', 'flight']\n"
     ]
    }
   ],
   "source": [
    "text = text.lower().split()\n",
    "print(text)"
   ]
  },
  {
   "cell_type": "markdown",
   "metadata": {},
   "source": [
    "# Remove Stop words\n",
    "\n",
    "Several alternatives\n",
    "\n",
    "* Manually \n",
    "* Using NLTK\n",
    "\n",
    "## Installing and Downloading NLTK\n",
    "        pip install nltk\n",
    "        nltk.download()\n"
   ]
  },
  {
   "cell_type": "code",
   "execution_count": 31,
   "metadata": {
    "collapsed": false
   },
   "outputs": [
    {
     "name": "stdout",
     "output_type": "stream",
     "text": [
      "-------------------------------------------- STOPWORDS:\n",
      "['i', 'me', 'my', 'myself', 'we', 'our', 'ours', 'ourselves', 'you', 'your', 'yours', 'yourself', 'yourselves', 'he', 'him', 'his', 'himself', 'she', 'her', 'hers', 'herself', 'it', 'its', 'itself', 'they', 'them', 'their', 'theirs', 'themselves', 'what', 'which', 'who', 'whom', 'this', 'that', 'these', 'those', 'am', 'is', 'are', 'was', 'were', 'be', 'been', 'being', 'have', 'has', 'had', 'having', 'do', 'does', 'did', 'doing', 'a', 'an', 'the', 'and', 'but', 'if', 'or', 'because', 'as', 'until', 'while', 'of', 'at', 'by', 'for', 'with', 'about', 'against', 'between', 'into', 'through', 'during', 'before', 'after', 'above', 'below', 'to', 'from', 'up', 'down', 'in', 'out', 'on', 'off', 'over', 'under', 'again', 'further', 'then', 'once', 'here', 'there', 'when', 'where', 'why', 'how', 'all', 'any', 'both', 'each', 'few', 'more', 'most', 'other', 'some', 'such', 'no', 'nor', 'not', 'only', 'own', 'same', 'so', 'than', 'too', 'very', 's', 't', 'can', 'will', 'just', 'don', 'should', 'now']\n",
      "-------------------------------------------- TEXT:\n",
      "['bertrand', 'piccard', 'andré', 'borschberg', 'spent', 'years', 'million', 'euros', 'research', 'development', 'solar', 'impulse', 'solarpowered', 'plane', 'ready', 'stop', 'journey', 'concept', 'successful', 'flight', 'pair', 'delved', 'deeply', 'world', 'energyefficient', 'batteries', 'green', 'technology', 'becoming', 'experts', 'fields', 'using', 'knowledge', 'experience', 'piccard', 'borschberg', 'plan', 'focus', 'applying', 'learned', 'broader', 'areas', 'aviation', 'travel', 'future', 'clean', 'future', 'future', 'lets', 'take', 'said', 'solar', 'impulse', 'cofounder', 'piccard', 'following', 'completion', 'groundbreaking', 'flight']\n"
     ]
    }
   ],
   "source": [
    "# Manually\n",
    "\n",
    "my_stopwords = ['and', 'in', 'of','the']\n",
    "\n",
    "# Using NLTK\n",
    "\n",
    "import nltk\n",
    "from nltk.corpus import stopwords # Import the stop word list\n",
    "nltk_stopwords = stopwords.words(\"english\")\n",
    "\n",
    "print('-------------------------------------------- STOPWORDS:')\n",
    "print(stopwords.words(\"english\"))\n",
    "print('-------------------------------------------- TEXT:')\n",
    "text = [w for w in text if not w in nltk_stopwords]\n",
    "print(text)\n"
   ]
  },
  {
   "cell_type": "markdown",
   "metadata": {},
   "source": [
    "# Vectorize\n",
    "\n"
   ]
  },
  {
   "cell_type": "code",
   "execution_count": 41,
   "metadata": {
    "collapsed": false
   },
   "outputs": [
    {
     "name": "stdout",
     "output_type": "stream",
     "text": [
      "-------------------------------------------- Sorted Text:\n",
      "['andré', 'applying', 'areas', 'aviation', 'batteries', 'becoming', 'bertrand', 'borschberg', 'borschberg', 'broader', 'clean', 'cofounder', 'completion', 'concept', 'deeply', 'delved', 'development', 'energyefficient', 'euros', 'experience', 'experts', 'fields', 'flight', 'flight', 'focus', 'following', 'future', 'future', 'future', 'green', 'groundbreaking', 'impulse', 'impulse', 'journey', 'knowledge', 'learned', 'lets', 'million', 'pair', 'piccard', 'piccard', 'piccard', 'plan', 'plane', 'ready', 'research', 'said', 'solar', 'solar', 'solarpowered', 'spent', 'stop', 'successful', 'take', 'technology', 'travel', 'using', 'world', 'years']\n"
     ]
    },
    {
     "data": {
      "text/plain": [
       "[('successful', 1),\n",
       " ('solar', 2),\n",
       " ('fields', 1),\n",
       " ('future', 3),\n",
       " ('becoming', 1),\n",
       " ('learned', 1),\n",
       " ('experience', 1),\n",
       " ('bertrand', 1),\n",
       " ('borschberg', 2),\n",
       " ('following', 1),\n",
       " ('take', 1),\n",
       " ('broader', 1),\n",
       " ('ready', 1),\n",
       " ('energyefficient', 1),\n",
       " ('aviation', 1),\n",
       " ('batteries', 1),\n",
       " ('clean', 1),\n",
       " ('areas', 1),\n",
       " ('travel', 1),\n",
       " ('development', 1),\n",
       " ('pair', 1),\n",
       " ('focus', 1),\n",
       " ('technology', 1),\n",
       " ('solarpowered', 1),\n",
       " ('said', 1),\n",
       " ('world', 1),\n",
       " ('million', 1),\n",
       " ('green', 1),\n",
       " ('using', 1),\n",
       " ('euros', 1),\n",
       " ('spent', 1),\n",
       " ('impulse', 2),\n",
       " ('plan', 1),\n",
       " ('research', 1),\n",
       " ('journey', 1),\n",
       " ('delved', 1),\n",
       " ('concept', 1),\n",
       " ('deeply', 1),\n",
       " ('knowledge', 1),\n",
       " ('experts', 1),\n",
       " ('andré', 1),\n",
       " ('piccard', 3),\n",
       " ('plane', 1),\n",
       " ('groundbreaking', 1),\n",
       " ('stop', 1),\n",
       " ('applying', 1),\n",
       " ('years', 1),\n",
       " ('lets', 1),\n",
       " ('flight', 2),\n",
       " ('cofounder', 1),\n",
       " ('completion', 1)]"
      ]
     },
     "execution_count": 41,
     "metadata": {},
     "output_type": "execute_result"
    }
   ],
   "source": [
    "# Sort the text\n",
    "text.sort()\n",
    "print('-------------------------------------------- Sorted Text:')\n",
    "print(text)\n",
    "\n",
    "# Create a dictionnary of words and their counts\n",
    "counts = [ (w,text.count(w)) for w in set(text)] \n",
    "\n",
    "counts"
   ]
  },
  {
   "cell_type": "markdown",
   "metadata": {},
   "source": [
    "# And now in one line!\n",
    "\n",
    "* scikit : [CountVectorizer](http://scikit-learn.org/stable/modules/generated/sklearn.feature_extraction.text.CountVectorizer.html#sklearn.feature_extraction.text.CountVectorizer)\n",
    "* nltk\n",
    "\n"
   ]
  },
  {
   "cell_type": "code",
   "execution_count": 51,
   "metadata": {
    "collapsed": false
   },
   "outputs": [
    {
     "name": "stdout",
     "output_type": "stream",
     "text": [
      "{'150': 1, 'successful': 46, 'solar': 43, 'fields': 21, 'learned': 32, 'experience': 19, 'bertrand': 7, 'borschberg': 8, 'let': 33, 'future': 26, 'broader': 9, 'ready': 40, 'aviation': 5, 'batteries': 6, 'energy': 17, 'andré': 2, 'travel': 48, 'areas': 4, 'development': 15, 'pair': 35, 'focus': 23, 'technology': 47, 'world': 50, 'said': 42, 'million': 34, 'green': 27, 'journey': 30, 'using': 49, '10': 0, 'euros': 18, 'clean': 10, 'impulse': 29, 'research': 41, 'plan': 37, 'delved': 14, 'concept': 12, 'deeply': 13, 'knowledge': 31, 'following': 24, 'experts': 20, 'piccard': 36, 'powered': 39, 'efficient': 16, 'groundbreaking': 28, 'stop': 45, 'applying': 3, 'spent': 44, 'years': 51, 'founder': 25, 'flight': 22, 'plane': 38, 'completion': 11}\n"
     ]
    },
    {
     "data": {
      "text/plain": [
       "array([[1, 1, 1, 1, 1, 1, 1, 1, 2, 1, 1, 1, 1, 1, 1, 1, 1, 1, 1, 1, 1, 1,\n",
       "        2, 1, 1, 1, 3, 1, 1, 2, 1, 1, 1, 1, 1, 1, 3, 1, 1, 1, 1, 1, 1, 3,\n",
       "        1, 1, 1, 1, 1, 1, 1, 1]], dtype=int64)"
      ]
     },
     "execution_count": 51,
     "metadata": {},
     "output_type": "execute_result"
    }
   ],
   "source": [
    "from sklearn.feature_extraction.text import CountVectorizer\n",
    "\n",
    "vectorizer = CountVectorizer(stop_words= 'english')\n",
    "X = vectorizer.fit_transform([original_text])\n",
    "print(vectorizer.vocabulary_)\n",
    "X.toarray()\n"
   ]
  },
  {
   "cell_type": "code",
   "execution_count": 55,
   "metadata": {
    "collapsed": false
   },
   "outputs": [
    {
     "data": {
      "text/plain": [
       "26"
      ]
     },
     "execution_count": 55,
     "metadata": {},
     "output_type": "execute_result"
    }
   ],
   "source": [
    "# check:\n",
    "import numpy as np\n",
    "np.where(X.toarray() == 3)\n",
    "vectorizer.vocabulary_['future']"
   ]
  },
  {
   "cell_type": "code",
   "execution_count": null,
   "metadata": {
    "collapsed": true
   },
   "outputs": [],
   "source": []
  }
 ],
 "metadata": {
  "kernelspec": {
   "display_name": "Python 3",
   "language": "python",
   "name": "python3"
  },
  "language_info": {
   "codemirror_mode": {
    "name": "ipython",
    "version": 3
   },
   "file_extension": ".py",
   "mimetype": "text/x-python",
   "name": "python",
   "nbconvert_exporter": "python",
   "pygments_lexer": "ipython3",
   "version": "3.5.2"
  }
 },
 "nbformat": 4,
 "nbformat_minor": 0
}
