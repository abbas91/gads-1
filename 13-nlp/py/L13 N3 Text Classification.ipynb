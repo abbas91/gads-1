{
 "cells": [
  {
   "cell_type": "markdown",
   "metadata": {},
   "source": [
    "# Classification on the Twenty Newsgroup\n",
    "\n",
    "\n",
    "*The [20 Newsgroups dataset](http://qwone.com/~jason/20Newsgroups/) is a collection of approximately 20,000 newsgroup documents, partitioned (nearly) evenly across 20 different newsgroups. \n",
    "\n",
    "The 20 newsgroups collection is a popular data set for experiments in text applications of machine learning techniques, such as text classification and text clustering.*\n",
    "\n",
    "# 1. Import and inspect the data"
   ]
  },
  {
   "cell_type": "code",
   "execution_count": 78,
   "metadata": {
    "collapsed": true
   },
   "outputs": [],
   "source": [
    "import numpy as np\n",
    "import pandas as pd\n",
    "from sklearn.naive_bayes import MultinomialNB\n",
    "from sklearn.datasets import fetch_20newsgroups\n",
    "from sklearn.feature_extraction.text import CountVectorizer\n",
    "from sklearn.feature_extraction.text import TfidfTransformer\n",
    "from sklearn.linear_model import SGDClassifier\n",
    "\n",
    "\n",
    "from sklearn.pipeline import Pipeline\n"
   ]
  },
  {
   "cell_type": "code",
   "execution_count": 74,
   "metadata": {
    "collapsed": false
   },
   "outputs": [],
   "source": [
    "categories = ['sci.space','comp.graphics', 'sci.med', 'rec.motorcycles', 'rec.sport.baseball']\n",
    "twenty_train = fetch_20newsgroups(subset='train',  categories=categories, shuffle=True, random_state=42)\n",
    "\n",
    "twenty_train.target_names\n",
    "len(twenty_train.data)\n",
    "\n",
    "# test data\n",
    "twenty_test = fetch_20newsgroups(subset='test',categories=categories, shuffle=True, random_state=42)\n",
    "\n"
   ]
  },
  {
   "cell_type": "code",
   "execution_count": 58,
   "metadata": {
    "collapsed": false
   },
   "outputs": [
    {
     "name": "stdout",
     "output_type": "stream",
     "text": [
      "rec.sport.baseball\n",
      "From: rkoffler@ux4.cso.uiuc.edu (Bighelmet)\n",
      "Subject: Re: Best Sportwriters...\n",
      "Keywords: Sportswriters\n",
      "Organization: University of Illinois at Urbana\n",
      "Lines: 21\n",
      "\n",
      "csc2imd@cabell.vcu.edu (Ian M. Derby) writes:\n",
      "\n",
      "\n",
      ">Since someone brought up sports radio, howabout sportswriting???\n",
      "\n",
      "I happen to be a big fan of Jayson Stark.  He is a baseball writer for the \n",
      "Philadelphia Inquirer.  Every tuesday he writes a \"Week in Review\" column.  \n",
      "He writes about unusual situations that occured during the week.  Unusual\n",
      "stats.  He has a section called \"Kinerisms of the Week\" which are stupid\n",
      "lines by Mets brodcaster Ralph Kiner.  Every year he has the LGTGAH contest.\n",
      "That stands for \"Last guy to get a hit.\"  He also writes for Baseball \n",
      "America.  That column is sort of a highlights of \"Week in Review.\"  If you \n",
      "can, check his column out sometime.  He might make you laugh.\n",
      "\n",
      "Rob Koffler\n",
      "\n",
      "-- \n",
      "******************************************************************\n",
      "|You live day to day and                rkoffler@ux4.cso.uiuc.edu|\n",
      "|dream about tomorrow --Don Henley                               |\n",
      "******************************************************************\n",
      "\n"
     ]
    }
   ],
   "source": [
    "print(twenty_train.target_names[twenty_train.target[1]])\n",
    "print(twenty_train.data[1])"
   ]
  },
  {
   "cell_type": "markdown",
   "metadata": {},
   "source": [
    "# 2. Extract features from data\n",
    "\n",
    "Transform the *twenty_train.data* with \n",
    "\n",
    "* [CountVectorizer](http://scikit-learn.org/stable/modules/generated/sklearn.feature_extraction.text.CountVectorizer.html)\n",
    "    * Stopwords = english\n",
    "    * limit the vocabulary to 1000 words\n",
    "\n",
    "Then apply\n",
    "\n",
    "* [TfidfTransformer](http://scikit-learn.org/stable/modules/generated/sklearn.feature_extraction.text.TfidfTransformer.html)\n",
    "\n",
    "How do you understand the content of CountVectorizer and TfidfTransformer?"
   ]
  },
  {
   "cell_type": "code",
   "execution_count": 1,
   "metadata": {
    "collapsed": false
   },
   "outputs": [],
   "source": [
    "# Count words\n",
    "# ...\n",
    "# X_train_counts = \n",
    "\n",
    "# Frequency tf-idf\n",
    "# ...\n",
    "# X_train_tfidf = \n"
   ]
  },
  {
   "cell_type": "markdown",
   "metadata": {},
   "source": [
    "# 3. Fit a model and predict some sentences\n",
    "\n",
    "* Fit a Multinomial Naive Bayes Model (MultinomialNB ) to the output of the CountVectorizer + TfidfTransformer\n",
    "* Predict the category of some sentences\n",
    "\n",
    "For instance:\n",
    "\n",
    "        new_sentences = ['Space the final frontier  where no one has gone before', \n",
    "                         'OpenGL on the GPU is fast', \n",
    "                         'I bought my new honda at the local dealer ', \n",
    "                        ]\n",
    "\n"
   ]
  },
  {
   "cell_type": "code",
   "execution_count": 72,
   "metadata": {
    "collapsed": false
   },
   "outputs": [],
   "source": [
    "# Fit the model on X_train_tfidf, twenty_train.target\n",
    "clf = MultinomialNB()\n",
    "\n",
    "# ...\n"
   ]
  },
  {
   "cell_type": "code",
   "execution_count": 3,
   "metadata": {
    "collapsed": false
   },
   "outputs": [],
   "source": [
    "new_sentences = ['Space the final frontier where no one has gone before',  'OpenGL on the GPU is fast',  'I bought my new honda at the local dealer ' ]\n",
    "# Transform the sentences \n",
    "# count_vectorize + tfidf transform on the new_sentences\n",
    "\n",
    "# predict\n",
    "\n",
    "# predicted_categories = ...\n",
    "\n",
    "\n",
    "\n",
    "\n",
    "# and print\n",
    "# for doc, category in zip(new_sentences, predicted_categories):\n",
    "#     print('%r => %s' % (doc, twenty_train.target_names[category]))"
   ]
  },
  {
   "cell_type": "markdown",
   "metadata": {},
   "source": [
    "# 4. Pipelines\n",
    "\n",
    "Let's build a pipeline with\n",
    "\n",
    "* CountVectorizer\n",
    "* TfidfTransormer\n",
    "* MultinomialNB\n",
    "\n",
    "        from sklearn.pipeline import Pipeline\n",
    "        text_clf = Pipeline([('vect', CountVectorizer()),\n",
    "                     ('tfidf', TfidfTransformer()),\n",
    "                     ('clf', MultinomialNB()),\n",
    "        ])\n",
    "\n",
    "Fit the Pipeline on the twenty_train.train data and predict on the twenty_train.test data \n",
    "\n",
    "Assess the performance prediction\n",
    "\n",
    "            np.mean(predicted == twenty_test.target)"
   ]
  },
  {
   "cell_type": "code",
   "execution_count": null,
   "metadata": {
    "collapsed": false
   },
   "outputs": [],
   "source": []
  },
  {
   "cell_type": "markdown",
   "metadata": {},
   "source": [
    "# 5. Different Classifier\n",
    "\n",
    "Try changing the classifier to the [Stochastic Gradient Classifier](http://scikit-learn.org/stable/modules/generated/sklearn.linear_model.SGDClassifier.html) with\n",
    "\n",
    "* loss='hinge', \n",
    "* penalty='l2',\n",
    "* alpha=1e-3\n",
    "* n_iter=5\n",
    "\n",
    "        SGDClassifier(loss='hinge', penalty='l2', alpha=1e-3, n_iter=5, random_state=42)\n",
    "\n",
    "What's the accuracy on test data?\n",
    "\n",
    "Look at the classification report\n",
    "\n",
    "        from sklearn import metrics\n",
    "        metrics.classification_report(twenty_test.target, predicted , target_names=twenty_test.target_names)\n",
    "\n",
    "\n"
   ]
  },
  {
   "cell_type": "code",
   "execution_count": null,
   "metadata": {
    "collapsed": false
   },
   "outputs": [],
   "source": []
  },
  {
   "cell_type": "code",
   "execution_count": null,
   "metadata": {
    "collapsed": false
   },
   "outputs": [],
   "source": []
  },
  {
   "cell_type": "markdown",
   "metadata": {
    "collapsed": true
   },
   "source": [
    "# 6. GridSearch on pipeline\n",
    "\n",
    "        from sklearn.grid_search import GridSearchCV\n",
    "        parameters = {'vect__ngram_range': [(1, 1), (1, 2)],\n",
    "                      'tfidf__use_idf': (True, False),\n",
    "                      'clf__alpha': (1e-2, 1e-3),\n",
    "        }\n",
    "        gs_clf = GridSearchCV(text_clf, parameters, n_jobs=-1)\n",
    "\n",
    "fit on twenty_train.data, twenty_train.target, and look at grid scores\n",
    "\n"
   ]
  },
  {
   "cell_type": "code",
   "execution_count": null,
   "metadata": {
    "collapsed": false
   },
   "outputs": [],
   "source": []
  },
  {
   "cell_type": "code",
   "execution_count": null,
   "metadata": {
    "collapsed": true
   },
   "outputs": [],
   "source": []
  }
 ],
 "metadata": {
  "kernelspec": {
   "display_name": "Python 3",
   "language": "python",
   "name": "python3"
  },
  "language_info": {
   "codemirror_mode": {
    "name": "ipython",
    "version": 3
   },
   "file_extension": ".py",
   "mimetype": "text/x-python",
   "name": "python",
   "nbconvert_exporter": "python",
   "pygments_lexer": "ipython3",
   "version": "3.5.2"
  }
 },
 "nbformat": 4,
 "nbformat_minor": 0
}
