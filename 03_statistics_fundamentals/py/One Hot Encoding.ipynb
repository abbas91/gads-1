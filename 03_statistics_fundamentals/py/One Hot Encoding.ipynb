{
 "cells": [
  {
   "cell_type": "markdown",
   "metadata": {},
   "source": [
    "# One Hot Encoding\n"
   ]
  },
  {
   "cell_type": "code",
   "execution_count": 35,
   "metadata": {
    "collapsed": true
   },
   "outputs": [],
   "source": [
    "import numpy as np\n",
    "import pandas as pd\n",
    "import matplotlib.pyplot as plt\n",
    "%matplotlib inline\n",
    "\n"
   ]
  },
  {
   "cell_type": "code",
   "execution_count": 36,
   "metadata": {
    "collapsed": false
   },
   "outputs": [
    {
     "name": "stdout",
     "output_type": "stream",
     "text": [
      "We have 37 different countries \n",
      "United Kingdom          317322\n",
      "Germany                   7736\n",
      "France                    7182\n",
      "EIRE                      5766\n",
      "Spain                     2141\n",
      "Belgium                   1696\n",
      "Switzerland               1538\n",
      "Portugal                  1329\n",
      "Norway                     812\n",
      "Netherlands                676\n",
      "Italy                      648\n",
      "Channel Islands            621\n",
      "Australia                  556\n",
      "Finland                    546\n",
      "Cyprus                     517\n",
      "Austria                    353\n",
      "Denmark                    304\n",
      "Poland                     270\n",
      "Sweden                     257\n",
      "Unspecified                222\n",
      "Israel                     204\n",
      "Iceland                    168\n",
      "USA                        165\n",
      "Singapore                  160\n",
      "Greece                     130\n",
      "Canada                     128\n",
      "Japan                      125\n",
      "Malta                       93\n",
      "United Arab Emirates        59\n",
      "European Community          51\n",
      "RSA                         48\n",
      "Lebanon                     34\n",
      "Brazil                      31\n",
      "Lithuania                   30\n",
      "Czech Republic              19\n",
      "Bahrain                     11\n",
      "Saudi Arabia                 9\n",
      "Name: Country, dtype: int64\n"
     ]
    }
   ],
   "source": [
    "# Load previously saved df\n",
    "df = pd.read_csv('../data/online_retail_cleaned_up.csv')\n",
    "\n",
    "# what countries do we have?\n",
    "# Use df.Country.value_counts()\n",
    "\n",
    "print(\"We have %s different countries \"% len(df.Country.value_counts()) )\n",
    "print(df.Country.value_counts())"
   ]
  },
  {
   "cell_type": "markdown",
   "metadata": {},
   "source": [
    "# Only keep the top 5 countries in the EU\n",
    "Note: UK is no longer in the EU as of last Thursday"
   ]
  },
  {
   "cell_type": "code",
   "execution_count": 37,
   "metadata": {
    "collapsed": false
   },
   "outputs": [
    {
     "name": "stdout",
     "output_type": "stream",
     "text": [
      "Index(['Germany', 'France', 'EIRE', 'Spain', 'Belgium'], dtype='object')\n"
     ]
    }
   ],
   "source": [
    "# Only Keep the top 5 countries\n",
    "short_list_EU = df.Country.value_counts()[1:6].keys()\n",
    "print(short_list_EU)"
   ]
  },
  {
   "cell_type": "code",
   "execution_count": 38,
   "metadata": {
    "collapsed": false
   },
   "outputs": [
    {
     "name": "stdout",
     "output_type": "stream",
     "text": [
      "We are down to 24521 rows\n"
     ]
    }
   ],
   "source": [
    "df = df[df.Country.isin(short_list_EU)]\n",
    "print(\"We are down to %s rows\" % df.shape[0])"
   ]
  },
  {
   "cell_type": "code",
   "execution_count": 39,
   "metadata": {
    "collapsed": false
   },
   "outputs": [],
   "source": [
    "dummies = pd.get_dummies(df.Country).head()"
   ]
  },
  {
   "cell_type": "code",
   "execution_count": 40,
   "metadata": {
    "collapsed": false
   },
   "outputs": [
    {
     "data": {
      "text/html": [
       "<div>\n",
       "<table border=\"1\" class=\"dataframe\">\n",
       "  <thead>\n",
       "    <tr style=\"text-align: right;\">\n",
       "      <th></th>\n",
       "      <th>Unnamed: 0</th>\n",
       "      <th>InvoiceNo</th>\n",
       "      <th>StockCode</th>\n",
       "      <th>Description</th>\n",
       "      <th>Quantity</th>\n",
       "      <th>InvoiceDate</th>\n",
       "      <th>UnitPrice</th>\n",
       "      <th>CustomerID</th>\n",
       "      <th>Country</th>\n",
       "      <th>Belgium</th>\n",
       "      <th>EIRE</th>\n",
       "      <th>France</th>\n",
       "      <th>Germany</th>\n",
       "      <th>Spain</th>\n",
       "    </tr>\n",
       "  </thead>\n",
       "  <tbody>\n",
       "    <tr>\n",
       "      <th>140</th>\n",
       "      <td>10934</td>\n",
       "      <td>576607</td>\n",
       "      <td>21262</td>\n",
       "      <td>WHITE GOOSE FEATHER CHRISTMAS TREE</td>\n",
       "      <td>1</td>\n",
       "      <td>11/15/11 15:42</td>\n",
       "      <td>2.95</td>\n",
       "      <td>12474</td>\n",
       "      <td>Germany</td>\n",
       "      <td>0</td>\n",
       "      <td>0</td>\n",
       "      <td>0</td>\n",
       "      <td>1</td>\n",
       "      <td>0</td>\n",
       "    </tr>\n",
       "    <tr>\n",
       "      <th>141</th>\n",
       "      <td>10936</td>\n",
       "      <td>538644</td>\n",
       "      <td>21658</td>\n",
       "      <td>GLASS  BEURRE DISH</td>\n",
       "      <td>1</td>\n",
       "      <td>12/13/10 14:39</td>\n",
       "      <td>3.95</td>\n",
       "      <td>12476</td>\n",
       "      <td>Germany</td>\n",
       "      <td>0</td>\n",
       "      <td>0</td>\n",
       "      <td>0</td>\n",
       "      <td>1</td>\n",
       "      <td>0</td>\n",
       "    </tr>\n",
       "    <tr>\n",
       "      <th>142</th>\n",
       "      <td>10949</td>\n",
       "      <td>540469</td>\n",
       "      <td>48138</td>\n",
       "      <td>DOORMAT UNION FLAG</td>\n",
       "      <td>1</td>\n",
       "      <td>1/7/11 14:04</td>\n",
       "      <td>7.95</td>\n",
       "      <td>12484</td>\n",
       "      <td>Spain</td>\n",
       "      <td>0</td>\n",
       "      <td>0</td>\n",
       "      <td>0</td>\n",
       "      <td>0</td>\n",
       "      <td>1</td>\n",
       "    </tr>\n",
       "    <tr>\n",
       "      <th>143</th>\n",
       "      <td>10950</td>\n",
       "      <td>540469</td>\n",
       "      <td>48111</td>\n",
       "      <td>DOORMAT 3 SMILEY CATS</td>\n",
       "      <td>1</td>\n",
       "      <td>1/7/11 14:04</td>\n",
       "      <td>7.95</td>\n",
       "      <td>12484</td>\n",
       "      <td>Spain</td>\n",
       "      <td>0</td>\n",
       "      <td>0</td>\n",
       "      <td>0</td>\n",
       "      <td>0</td>\n",
       "      <td>1</td>\n",
       "    </tr>\n",
       "    <tr>\n",
       "      <th>144</th>\n",
       "      <td>10951</td>\n",
       "      <td>540469</td>\n",
       "      <td>48129</td>\n",
       "      <td>DOORMAT TOPIARY</td>\n",
       "      <td>1</td>\n",
       "      <td>1/7/11 14:04</td>\n",
       "      <td>7.95</td>\n",
       "      <td>12484</td>\n",
       "      <td>Spain</td>\n",
       "      <td>0</td>\n",
       "      <td>0</td>\n",
       "      <td>0</td>\n",
       "      <td>0</td>\n",
       "      <td>1</td>\n",
       "    </tr>\n",
       "  </tbody>\n",
       "</table>\n",
       "</div>"
      ],
      "text/plain": [
       "     Unnamed: 0  InvoiceNo StockCode                          Description  \\\n",
       "140       10934     576607     21262  WHITE GOOSE FEATHER CHRISTMAS TREE    \n",
       "141       10936     538644     21658                   GLASS  BEURRE DISH   \n",
       "142       10949     540469     48138                   DOORMAT UNION FLAG   \n",
       "143       10950     540469     48111                DOORMAT 3 SMILEY CATS   \n",
       "144       10951     540469     48129                      DOORMAT TOPIARY   \n",
       "\n",
       "     Quantity     InvoiceDate  UnitPrice  CustomerID  Country  Belgium  EIRE  \\\n",
       "140         1  11/15/11 15:42       2.95       12474  Germany        0     0   \n",
       "141         1  12/13/10 14:39       3.95       12476  Germany        0     0   \n",
       "142         1    1/7/11 14:04       7.95       12484    Spain        0     0   \n",
       "143         1    1/7/11 14:04       7.95       12484    Spain        0     0   \n",
       "144         1    1/7/11 14:04       7.95       12484    Spain        0     0   \n",
       "\n",
       "     France  Germany  Spain  \n",
       "140       0        1      0  \n",
       "141       0        1      0  \n",
       "142       0        0      1  \n",
       "143       0        0      1  \n",
       "144       0        0      1  "
      ]
     },
     "execution_count": 40,
     "metadata": {},
     "output_type": "execute_result"
    }
   ],
   "source": [
    "df = df.join(dummies)\n"
   ]
  },
  {
   "cell_type": "code",
   "execution_count": 41,
   "metadata": {
    "collapsed": false
   },
   "outputs": [
    {
     "data": {
      "text/html": [
       "<div>\n",
       "<table border=\"1\" class=\"dataframe\">\n",
       "  <thead>\n",
       "    <tr style=\"text-align: right;\">\n",
       "      <th></th>\n",
       "      <th>Unnamed: 0</th>\n",
       "      <th>InvoiceNo</th>\n",
       "      <th>StockCode</th>\n",
       "      <th>Description</th>\n",
       "      <th>Quantity</th>\n",
       "      <th>InvoiceDate</th>\n",
       "      <th>UnitPrice</th>\n",
       "      <th>CustomerID</th>\n",
       "      <th>Belgium</th>\n",
       "      <th>EIRE</th>\n",
       "      <th>France</th>\n",
       "      <th>Germany</th>\n",
       "      <th>Spain</th>\n",
       "    </tr>\n",
       "  </thead>\n",
       "  <tbody>\n",
       "    <tr>\n",
       "      <th>140</th>\n",
       "      <td>10934</td>\n",
       "      <td>576607</td>\n",
       "      <td>21262</td>\n",
       "      <td>WHITE GOOSE FEATHER CHRISTMAS TREE</td>\n",
       "      <td>1</td>\n",
       "      <td>11/15/11 15:42</td>\n",
       "      <td>2.95</td>\n",
       "      <td>12474</td>\n",
       "      <td>0</td>\n",
       "      <td>0</td>\n",
       "      <td>0</td>\n",
       "      <td>1</td>\n",
       "      <td>0</td>\n",
       "    </tr>\n",
       "    <tr>\n",
       "      <th>141</th>\n",
       "      <td>10936</td>\n",
       "      <td>538644</td>\n",
       "      <td>21658</td>\n",
       "      <td>GLASS  BEURRE DISH</td>\n",
       "      <td>1</td>\n",
       "      <td>12/13/10 14:39</td>\n",
       "      <td>3.95</td>\n",
       "      <td>12476</td>\n",
       "      <td>0</td>\n",
       "      <td>0</td>\n",
       "      <td>0</td>\n",
       "      <td>1</td>\n",
       "      <td>0</td>\n",
       "    </tr>\n",
       "    <tr>\n",
       "      <th>142</th>\n",
       "      <td>10949</td>\n",
       "      <td>540469</td>\n",
       "      <td>48138</td>\n",
       "      <td>DOORMAT UNION FLAG</td>\n",
       "      <td>1</td>\n",
       "      <td>1/7/11 14:04</td>\n",
       "      <td>7.95</td>\n",
       "      <td>12484</td>\n",
       "      <td>0</td>\n",
       "      <td>0</td>\n",
       "      <td>0</td>\n",
       "      <td>0</td>\n",
       "      <td>1</td>\n",
       "    </tr>\n",
       "    <tr>\n",
       "      <th>143</th>\n",
       "      <td>10950</td>\n",
       "      <td>540469</td>\n",
       "      <td>48111</td>\n",
       "      <td>DOORMAT 3 SMILEY CATS</td>\n",
       "      <td>1</td>\n",
       "      <td>1/7/11 14:04</td>\n",
       "      <td>7.95</td>\n",
       "      <td>12484</td>\n",
       "      <td>0</td>\n",
       "      <td>0</td>\n",
       "      <td>0</td>\n",
       "      <td>0</td>\n",
       "      <td>1</td>\n",
       "    </tr>\n",
       "    <tr>\n",
       "      <th>144</th>\n",
       "      <td>10951</td>\n",
       "      <td>540469</td>\n",
       "      <td>48129</td>\n",
       "      <td>DOORMAT TOPIARY</td>\n",
       "      <td>1</td>\n",
       "      <td>1/7/11 14:04</td>\n",
       "      <td>7.95</td>\n",
       "      <td>12484</td>\n",
       "      <td>0</td>\n",
       "      <td>0</td>\n",
       "      <td>0</td>\n",
       "      <td>0</td>\n",
       "      <td>1</td>\n",
       "    </tr>\n",
       "  </tbody>\n",
       "</table>\n",
       "</div>"
      ],
      "text/plain": [
       "     Unnamed: 0  InvoiceNo StockCode                          Description  \\\n",
       "140       10934     576607     21262  WHITE GOOSE FEATHER CHRISTMAS TREE    \n",
       "141       10936     538644     21658                   GLASS  BEURRE DISH   \n",
       "142       10949     540469     48138                   DOORMAT UNION FLAG   \n",
       "143       10950     540469     48111                DOORMAT 3 SMILEY CATS   \n",
       "144       10951     540469     48129                      DOORMAT TOPIARY   \n",
       "\n",
       "     Quantity     InvoiceDate  UnitPrice  CustomerID  Belgium  EIRE  France  \\\n",
       "140         1  11/15/11 15:42       2.95       12474        0     0       0   \n",
       "141         1  12/13/10 14:39       3.95       12476        0     0       0   \n",
       "142         1    1/7/11 14:04       7.95       12484        0     0       0   \n",
       "143         1    1/7/11 14:04       7.95       12484        0     0       0   \n",
       "144         1    1/7/11 14:04       7.95       12484        0     0       0   \n",
       "\n",
       "     Germany  Spain  \n",
       "140        1      0  \n",
       "141        1      0  \n",
       "142        0      1  \n",
       "143        0      1  \n",
       "144        0      1  "
      ]
     },
     "execution_count": 41,
     "metadata": {},
     "output_type": "execute_result"
    }
   ],
   "source": [
    "df = df.drop('Country', axis = 1)\n",
    "df.head()"
   ]
  },
  {
   "cell_type": "code",
   "execution_count": null,
   "metadata": {
    "collapsed": true
   },
   "outputs": [],
   "source": []
  }
 ],
 "metadata": {
  "kernelspec": {
   "display_name": "Python 3",
   "language": "python",
   "name": "python3"
  },
  "language_info": {
   "codemirror_mode": {
    "name": "ipython",
    "version": 3
   },
   "file_extension": ".py",
   "mimetype": "text/x-python",
   "name": "python",
   "nbconvert_exporter": "python",
   "pygments_lexer": "ipython3",
   "version": "3.4.4"
  }
 },
 "nbformat": 4,
 "nbformat_minor": 0
}
