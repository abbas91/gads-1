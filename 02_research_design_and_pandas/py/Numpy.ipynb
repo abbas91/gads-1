{
 "cells": [
  {
   "cell_type": "markdown",
   "metadata": {},
   "source": [
    "# Introduction to Numpy\n",
    "\n",
    "* Overview\n",
    "* ndarray\n",
    "* Indexing and Slicing\n",
    "\n",
    "More info: [http://wiki.scipy.org/Tentative_NumPy_Tutorial](http://wiki.scipy.org/Tentative_NumPy_Tutorial)\n"
   ]
  },
  {
   "cell_type": "markdown",
   "metadata": {},
   "source": [
    "# Import libraries\n",
    "\n",
    "## Don't \n",
    "\n",
    "    import * \n",
    "\n",
    "This loads all submodules. Note: this is a waste of memory \n",
    "    \n",
    "    from numpy import *\n",
    "    \n",
    "No namespace: max() is it python max function of numpy.max() function \n",
    "\n",
    "## Do\n",
    "\n",
    "    import numpy as np"
   ]
  },
  {
   "cell_type": "code",
   "execution_count": 2,
   "metadata": {
    "collapsed": true
   },
   "outputs": [],
   "source": [
    "import numpy as np"
   ]
  },
  {
   "cell_type": "markdown",
   "metadata": {},
   "source": [
    "# Inline documentation\n",
    "\n",
    "Get Help by adding **?** in front of the function\n",
    "\n",
    "    ?np.mean()"
   ]
  },
  {
   "cell_type": "code",
   "execution_count": null,
   "metadata": {
    "collapsed": true
   },
   "outputs": [],
   "source": []
  },
  {
   "cell_type": "markdown",
   "metadata": {},
   "source": [
    "# Creating arrays:\n",
    "    a = np.zeros((3))\n",
    "    b = np.ones((2,3))\n",
    "    c = np.arange(0,11,1)\n",
    "    d = np.random.randint(1,10,(2,5))\n",
    "    e = np.arange(10)**2\n",
    "    f = np.array(['Patriots','Saints','Red Sox','Yankees','Ford','Honda'])\n",
    "    "
   ]
  },
  {
   "cell_type": "code",
   "execution_count": 24,
   "metadata": {
    "collapsed": false
   },
   "outputs": [],
   "source": [
    "a = np.zeros((3))\n",
    "b = np.ones((2,3))\n",
    "c = np.arange(0,11,1)\n",
    "d = np.random.randint(1,10,(2,3,4))\n",
    "e = np.arange(10)**2\n",
    "f = np.array(['Patriots','Saints','Red Sox','Yankees','Ford','Honda'])"
   ]
  },
  {
   "cell_type": "code",
   "execution_count": null,
   "metadata": {
    "collapsed": true
   },
   "outputs": [],
   "source": []
  },
  {
   "cell_type": "markdown",
   "metadata": {},
   "source": [
    "# Numpy Array vs Python Lists\n",
    "    \n",
    "    Extra dimensions\n",
    "    Extra functionalities"
   ]
  },
  {
   "cell_type": "code",
   "execution_count": 33,
   "metadata": {
    "collapsed": false
   },
   "outputs": [],
   "source": [
    "# Python list\n",
    "a = [1,-2,3,-4,5]\n",
    "\n",
    "# Numpy array\n",
    "b = np.array([1,-2,3,-4,5])\n",
    "\n",
    "# print(a)\n",
    "# print(b)\n",
    "# argmax(a)\n",
    "# np.argmax(b)"
   ]
  },
  {
   "cell_type": "markdown",
   "metadata": {},
   "source": [
    "# Indexing & Slicing\n"
   ]
  },
  {
   "cell_type": "code",
   "execution_count": 34,
   "metadata": {
    "collapsed": false
   },
   "outputs": [
    {
     "data": {
      "text/plain": [
       "array([[[5, 3, 8, 1],\n",
       "        [2, 3, 4, 4],\n",
       "        [1, 5, 3, 4]],\n",
       "\n",
       "       [[8, 3, 7, 7],\n",
       "        [3, 5, 8, 1],\n",
       "        [2, 5, 1, 5]]])"
      ]
     },
     "execution_count": 34,
     "metadata": {},
     "output_type": "execute_result"
    }
   ],
   "source": [
    "a = np.arange(0,20,2)\n",
    "# print(\"a: %s \"% a)\n",
    "# print(\"a[0]: %s \"% a[0])\n",
    "# print(\"a[2:5]: %s \"% a[2:5])\n",
    "d.random.randint()"
   ]
  },
  {
   "cell_type": "markdown",
   "metadata": {},
   "source": [
    "# Other\n",
    "    np.linspace() \n",
    "    np.all(), np.any()\n",
    "    np.shape()\n",
    "    np.ravel() "
   ]
  },
  {
   "cell_type": "markdown",
   "metadata": {},
   "source": [
    "# Exercise\n",
    "\n",
    "* Create a random vector of size 30 and find the mean value\n",
    "* Create a uniform subdivision of the interval [-1.3, 2.5] with 64 subdivisions (hint: use np.linspace() )\n",
    "\n",
    "and more [100 Numpy exercises](http://www.labri.fr/perso/nrougier/teaching/numpy.100/)"
   ]
  },
  {
   "cell_type": "code",
   "execution_count": null,
   "metadata": {
    "collapsed": true
   },
   "outputs": [],
   "source": []
  }
 ],
 "metadata": {
  "kernelspec": {
   "display_name": "Python 3",
   "language": "python",
   "name": "python3"
  },
  "language_info": {
   "codemirror_mode": {
    "name": "ipython",
    "version": 3
   },
   "file_extension": ".py",
   "mimetype": "text/x-python",
   "name": "python",
   "nbconvert_exporter": "python",
   "pygments_lexer": "ipython3",
   "version": "3.4.4"
  }
 },
 "nbformat": 4,
 "nbformat_minor": 0
}
