{
 "cells": [
  {
   "cell_type": "code",
   "execution_count": 2,
   "metadata": {
    "collapsed": false
   },
   "outputs": [
    {
     "name": "stdout",
     "output_type": "stream",
     "text": [
      "----- Matrix of inputs\n",
      "[[ 1.  1.]\n",
      " [ 1.  2.]\n",
      " [ 1.  3.]\n",
      " [ 1.  4.]]\n",
      "----- Matrix of outcomes\n",
      "[[ 6]\n",
      " [ 5]\n",
      " [ 7]\n",
      " [10]]\n",
      "----- estimated weights \n",
      "[[ 3.5]\n",
      " [ 1.4]]\n"
     ]
    },
    {
     "data": {
      "image/png": "[encoded data removed]",
      "text/plain": [
       "<matplotlib.figure.Figure at 0x104f0c048>"
      ]
     },
     "metadata": {},
     "output_type": "display_data"
    }
   ],
   "source": [
    "import numpy as np\n",
    "import matplotlib.pyplot as plt\n",
    "%matplotlib inline\n",
    "import warnings\n",
    "warnings.simplefilter(action = \"ignore\", category = FutureWarning)\n",
    "\n",
    "\n",
    "# 4 samples\n",
    "m = 4\n",
    "\n",
    "input = np.array([\n",
    "    [1, 6],\n",
    "    [2, 5],\n",
    "    [3, 7],\n",
    "    [4, 10]\n",
    "])\n",
    "\n",
    "# Matrix of predictors\n",
    "X = np.matrix([np.ones(m), input[:,0]]).T\n",
    "\n",
    "print(\"----- Matrix of inputs\")\n",
    "print(X)\n",
    "\n",
    "# Matrix of outcome\n",
    "y = np.matrix(input[:,1]).T\n",
    "print(\"----- Matrix of outcomes\")\n",
    "print(y)\n",
    "\n",
    "# estimated regression weights beta_hat = (X^T X)^{-1} X^T y\n",
    "# such that y_hat = beta_hat[1] * input[1] + beta_hat[0]\n",
    "beta_hat = np.linalg.inv(X.T.dot(X)).dot(X.T).dot(y)\n",
    "\n",
    "print(\"----- estimated weights \")\n",
    "print(beta_hat)\n",
    "\n",
    "# Plotting\n",
    "plt.figure(1)\n",
    "xx = np.linspace(0, 5, 2)\n",
    "y_hat = np.array(beta_hat[0] + beta_hat[1] * xx)\n",
    "plt.plot(xx, y_hat.T, color='b')\n",
    "\n",
    "plt.scatter(input[:,0], input[:,1], color='r')\n",
    "plt.show()"
   ]
  },
  {
   "cell_type": "code",
   "execution_count": null,
   "metadata": {
    "collapsed": true
   },
   "outputs": [],
   "source": []
  }
 ],
 "metadata": {
  "kernelspec": {
   "display_name": "Python 3",
   "language": "python",
   "name": "python3"
  },
  "language_info": {
   "codemirror_mode": {
    "name": "ipython",
    "version": 3
   },
   "file_extension": ".py",
   "mimetype": "text/x-python",
   "name": "python",
   "nbconvert_exporter": "python",
   "pygments_lexer": "ipython3",
   "version": "3.4.4"
  }
 },
 "nbformat": 4,
 "nbformat_minor": 0
}
