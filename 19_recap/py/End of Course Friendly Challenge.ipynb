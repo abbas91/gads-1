{
 "cells": [
  {
   "cell_type": "markdown",
   "metadata": {},
   "source": [
    "# End of Class Friendly Challenge\n",
    "\n",
    "In this session we will make predictions on the Boston housing dataset to review the major concepts and models we've learned in this course.\n",
    "\n",
    "The boston housing dataset has 14 attributes whose descriptions you can find here https://archive.ics.uci.edu/ml/datasets/Housing\n",
    "\n",
    "The dataset has been split into a training dataset and testing dataset.\n",
    "The racial attribute B has been removed from the dataset which leaves 12 predictors and one target MEDV: the Median value of owner-occupied homes.\n",
    "\n",
    "Your goal is to build a sklean pipeline on the training dataset that predicts the MEDV from the 12 predictors and apply it to the testing data.\n",
    "\n",
    "Your scikit lean pipeline must beat the baseline score below of 9.74 based on a Random Forest regression. The lower the better. The metric is [MSE](http://scikit-learn.org/stable/modules/generated/sklearn.metrics.mean_squared_error.html).\n",
    "\n",
    "* Data exploration\n",
    "* Feature engineering\n",
    "* Model selection through cross validation and grid search\n",
    "\n",
    "Some questions you could look into\n",
    "\n",
    "* Is my model over fitting or under fitting? (bias or variance)\n",
    "* Try out different feature engineering strategies (missing values, tranformations, ...)\n",
    "* What features are important which can be left out (if any)\n",
    "* How to reduce impact of collinearity?\n",
    "\n",
    "Use any model you want such as\n",
    "\n",
    "* LM, Ridge, Lasso\n",
    "* Random Forests\n",
    "* K-NN\n",
    "* SVM\n",
    "* Bagging model with a weak learner.\n",
    "\n",
    "and techniques such as\n",
    "\n",
    "* Cross validation\n",
    "* Grid search (knowing what the parameters actually mean helps a lot)\n",
    "* Learning curves\n",
    "* Dimensionality reduction with PCA\n",
    "\n",
    "Don't forget to fit your transformations on the training and apply them on the test set (do not fit the transformation on the test set)\n"
   ]
  },
  {
   "cell_type": "markdown",
   "metadata": {},
   "source": [
    "# Baseline Score to beat\n",
    "\n",
    "* Load the test and train data\n",
    "* Drop NaNs \n",
    "* Fit a Random Forest regressor\n",
    "* Calculate Mean Squared Error\n",
    "\n"
   ]
  },
  {
   "cell_type": "code",
   "execution_count": 1,
   "metadata": {
    "collapsed": false
   },
   "outputs": [
    {
     "name": "stdout",
     "output_type": "stream",
     "text": [
      "Baseline score (Random Forest) to beat is: 9.74 \n"
     ]
    }
   ],
   "source": [
    "import numpy as np\n",
    "import pandas as pd\n",
    "from sklearn.ensemble import RandomForestRegressor\n",
    "from sklearn.metrics import mean_squared_error\n",
    "\n",
    "np.random.seed(88)\n",
    "\n",
    "# load train and test datasets\n",
    "df_train  = pd.read_csv('../data/boston_train.csv', index_col = 'ID')\n",
    "df_test  = pd.read_csv('../data/boston_test.csv', index_col = 'ID')\n",
    "\n",
    "# drop rows with missing values\n",
    "df_train.dropna(inplace=True)\n",
    "df_test.dropna(inplace=True)\n",
    "\n",
    "# X_train, y_train, X_test, y_test  \n",
    "X_train = df_train.drop(['MEDV'], axis=1).values\n",
    "y_train = df_train.MEDV\n",
    "\n",
    "X_test = df_test.drop(['MEDV'], axis=1).values\n",
    "y_test = df_test.MEDV\n",
    "\n",
    "# Simple basic Random Forest regressor\n",
    "clf = RandomForestRegressor(random_state=0, n_estimators=100)\n",
    "clf.fit(X_train, y_train)\n",
    "y_hat = clf.predict(X_test)\n",
    "\n",
    "print(\"Baseline score (Random Forest) to beat is: %0.2f \"% mean_squared_error(y_hat, y_test) )\n"
   ]
  },
  {
   "cell_type": "markdown",
   "metadata": {},
   "source": [
    "# Your turn"
   ]
  },
  {
   "cell_type": "code",
   "execution_count": null,
   "metadata": {
    "collapsed": true
   },
   "outputs": [],
   "source": []
  }
 ],
 "metadata": {
  "kernelspec": {
   "display_name": "Python 3",
   "language": "python",
   "name": "python3"
  },
  "language_info": {
   "codemirror_mode": {
    "name": "ipython",
    "version": 3
   },
   "file_extension": ".py",
   "mimetype": "text/x-python",
   "name": "python",
   "nbconvert_exporter": "python",
   "pygments_lexer": "ipython3",
   "version": "3.5.2"
  }
 },
 "nbformat": 4,
 "nbformat_minor": 0
}
